{
 "cells": [
  {
   "cell_type": "code",
   "execution_count": 3,
   "metadata": {},
   "outputs": [],
   "source": [
    "import pandas as pd\n",
    "import numpy as np\n",
    "\n",
    "from sklearn import datasets, linear_model, model_selection\n",
    "from sklearn.model_selection import train_test_split, GridSearchCV\n",
    "from sklearn.metrics import mean_squared_error, accuracy_score, confusion_matrix\n",
    "\n",
    "from sklearn.metrics import classification_report\n",
    "\n",
    "from sklearn.neighbors import KNeighborsClassifier\n",
    "from sklearn.neural_network import MLPClassifier\n",
    "\n",
    "import seaborn as sn\n",
    "\n",
    "from matplotlib import pyplot as plt"
   ]
  },
  {
   "cell_type": "code",
   "execution_count": 4,
   "metadata": {
    "scrolled": true
   },
   "outputs": [
    {
     "data": {
      "text/html": [
       "<div>\n",
       "<style scoped>\n",
       "    .dataframe tbody tr th:only-of-type {\n",
       "        vertical-align: middle;\n",
       "    }\n",
       "\n",
       "    .dataframe tbody tr th {\n",
       "        vertical-align: top;\n",
       "    }\n",
       "\n",
       "    .dataframe thead th {\n",
       "        text-align: right;\n",
       "    }\n",
       "</style>\n",
       "<table border=\"1\" class=\"dataframe\">\n",
       "  <thead>\n",
       "    <tr style=\"text-align: right;\">\n",
       "      <th></th>\n",
       "      <th>variance</th>\n",
       "      <th>skewness</th>\n",
       "      <th>curtosis</th>\n",
       "      <th>entropy</th>\n",
       "      <th>class</th>\n",
       "    </tr>\n",
       "  </thead>\n",
       "  <tbody>\n",
       "    <tr>\n",
       "      <th>0</th>\n",
       "      <td>3.62160</td>\n",
       "      <td>8.6661</td>\n",
       "      <td>-2.8073</td>\n",
       "      <td>-0.44699</td>\n",
       "      <td>0</td>\n",
       "    </tr>\n",
       "    <tr>\n",
       "      <th>1</th>\n",
       "      <td>4.54590</td>\n",
       "      <td>8.1674</td>\n",
       "      <td>-2.4586</td>\n",
       "      <td>-1.46210</td>\n",
       "      <td>0</td>\n",
       "    </tr>\n",
       "    <tr>\n",
       "      <th>2</th>\n",
       "      <td>3.86600</td>\n",
       "      <td>-2.6383</td>\n",
       "      <td>1.9242</td>\n",
       "      <td>0.10645</td>\n",
       "      <td>0</td>\n",
       "    </tr>\n",
       "    <tr>\n",
       "      <th>3</th>\n",
       "      <td>3.45660</td>\n",
       "      <td>9.5228</td>\n",
       "      <td>-4.0112</td>\n",
       "      <td>-3.59440</td>\n",
       "      <td>0</td>\n",
       "    </tr>\n",
       "    <tr>\n",
       "      <th>4</th>\n",
       "      <td>0.32924</td>\n",
       "      <td>-4.4552</td>\n",
       "      <td>4.5718</td>\n",
       "      <td>-0.98880</td>\n",
       "      <td>0</td>\n",
       "    </tr>\n",
       "  </tbody>\n",
       "</table>\n",
       "</div>"
      ],
      "text/plain": [
       "   variance  skewness  curtosis  entropy  class\n",
       "0   3.62160    8.6661   -2.8073 -0.44699      0\n",
       "1   4.54590    8.1674   -2.4586 -1.46210      0\n",
       "2   3.86600   -2.6383    1.9242  0.10645      0\n",
       "3   3.45660    9.5228   -4.0112 -3.59440      0\n",
       "4   0.32924   -4.4552    4.5718 -0.98880      0"
      ]
     },
     "execution_count": 4,
     "metadata": {},
     "output_type": "execute_result"
    }
   ],
   "source": [
    "raw_df = pd.read_csv('data_banknote_authentication.txt', ',')\n",
    "\n",
    "raw_df.head()"
   ]
  },
  {
   "cell_type": "code",
   "execution_count": 5,
   "metadata": {},
   "outputs": [
    {
     "data": {
      "text/html": [
       "<div>\n",
       "<style scoped>\n",
       "    .dataframe tbody tr th:only-of-type {\n",
       "        vertical-align: middle;\n",
       "    }\n",
       "\n",
       "    .dataframe tbody tr th {\n",
       "        vertical-align: top;\n",
       "    }\n",
       "\n",
       "    .dataframe thead th {\n",
       "        text-align: right;\n",
       "    }\n",
       "</style>\n",
       "<table border=\"1\" class=\"dataframe\">\n",
       "  <thead>\n",
       "    <tr style=\"text-align: right;\">\n",
       "      <th></th>\n",
       "      <th>variance</th>\n",
       "      <th>skewness</th>\n",
       "      <th>curtosis</th>\n",
       "      <th>entropy</th>\n",
       "      <th>class</th>\n",
       "    </tr>\n",
       "  </thead>\n",
       "  <tbody>\n",
       "    <tr>\n",
       "      <th>871</th>\n",
       "      <td>-0.75793</td>\n",
       "      <td>2.5349</td>\n",
       "      <td>-3.0464</td>\n",
       "      <td>-1.262900</td>\n",
       "      <td>1</td>\n",
       "    </tr>\n",
       "    <tr>\n",
       "      <th>139</th>\n",
       "      <td>-0.20620</td>\n",
       "      <td>9.2207</td>\n",
       "      <td>-3.7044</td>\n",
       "      <td>-6.810300</td>\n",
       "      <td>0</td>\n",
       "    </tr>\n",
       "    <tr>\n",
       "      <th>364</th>\n",
       "      <td>5.78230</td>\n",
       "      <td>5.5788</td>\n",
       "      <td>-2.4089</td>\n",
       "      <td>-0.056479</td>\n",
       "      <td>0</td>\n",
       "    </tr>\n",
       "    <tr>\n",
       "      <th>201</th>\n",
       "      <td>4.00260</td>\n",
       "      <td>-3.5943</td>\n",
       "      <td>3.5573</td>\n",
       "      <td>0.268090</td>\n",
       "      <td>0</td>\n",
       "    </tr>\n",
       "    <tr>\n",
       "      <th>841</th>\n",
       "      <td>-3.88580</td>\n",
       "      <td>-12.8461</td>\n",
       "      <td>12.7957</td>\n",
       "      <td>-3.135300</td>\n",
       "      <td>1</td>\n",
       "    </tr>\n",
       "  </tbody>\n",
       "</table>\n",
       "</div>"
      ],
      "text/plain": [
       "     variance  skewness  curtosis   entropy  class\n",
       "871  -0.75793    2.5349   -3.0464 -1.262900      1\n",
       "139  -0.20620    9.2207   -3.7044 -6.810300      0\n",
       "364   5.78230    5.5788   -2.4089 -0.056479      0\n",
       "201   4.00260   -3.5943    3.5573  0.268090      0\n",
       "841  -3.88580  -12.8461   12.7957 -3.135300      1"
      ]
     },
     "execution_count": 5,
     "metadata": {},
     "output_type": "execute_result"
    }
   ],
   "source": [
    "# shuffle the dataset\n",
    "\n",
    "from sklearn.utils import shuffle\n",
    "raw_df = shuffle(raw_df)\n",
    "\n",
    "raw_df.head()"
   ]
  },
  {
   "cell_type": "code",
   "execution_count": 6,
   "metadata": {},
   "outputs": [
    {
     "data": {
      "image/png": "[encoded data removed]",
      "text/plain": [
       "<Figure size 432x288 with 1 Axes>"
      ]
     },
     "metadata": {
      "needs_background": "light"
     },
     "output_type": "display_data"
    }
   ],
   "source": [
    "# split the data int x(training data) and y (results)\n",
    "\n",
    "y = raw_df['class']\n",
    "X = raw_df.drop(['class'], axis=1)\n",
    "# X = pd.get_dummies(X, drop_first=True)\n",
    "# y = pd.get_dummies(y, drop_first=True).values.ravel()\n",
    "\n",
    "raw_df.groupby('class').count()\n",
    "\n",
    "ax = sn.countplot(x=\"class\", data=raw_df)\n",
    "plt.show()"
   ]
  },
  {
   "cell_type": "code",
   "execution_count": 7,
   "metadata": {},
   "outputs": [
    {
     "name": "stdout",
     "output_type": "stream",
     "text": [
      "(960, 4) (960,)\n"
     ]
    }
   ],
   "source": [
    "# create training and testing vars\n",
    "X_train, X_test, y_train, y_test = train_test_split(X, y, test_size=0.3)\n",
    "print (X_train.shape, y_train.shape)"
   ]
  },
  {
   "cell_type": "code",
   "execution_count": 8,
   "metadata": {},
   "outputs": [
    {
     "data": {
      "text/plain": [
       "array([[<matplotlib.axes._subplots.AxesSubplot object at 0x000000A00BE40DD8>,\n",
       "        <matplotlib.axes._subplots.AxesSubplot object at 0x000000A00C197390>],\n",
       "       [<matplotlib.axes._subplots.AxesSubplot object at 0x000000A00C1BFA20>,\n",
       "        <matplotlib.axes._subplots.AxesSubplot object at 0x000000A00C1F10F0>]],\n",
       "      dtype=object)"
      ]
     },
     "execution_count": 8,
     "metadata": {},
     "output_type": "execute_result"
    },
    {
     "data": {
      "image/png": "[encoded data removed]",
      "text/plain": [
       "<Figure size 432x288 with 4 Axes>"
      ]
     },
     "metadata": {
      "needs_background": "light"
     },
     "output_type": "display_data"
    }
   ],
   "source": [
    "X_train.hist()"
   ]
  },
  {
   "cell_type": "code",
   "execution_count": 9,
   "metadata": {},
   "outputs": [],
   "source": [
    "# Feature Scaling\n",
    "\n",
    "from sklearn.preprocessing import StandardScaler  \n",
    "scaler = StandardScaler()  \n",
    "scaler.fit(X_train)\n",
    "\n",
    "X_train = scaler.transform(X_train)  \n",
    "X_test = scaler.transform(X_test)  "
   ]
  },
  {
   "cell_type": "code",
   "execution_count": 10,
   "metadata": {},
   "outputs": [],
   "source": [
    "#### KNN Section"
   ]
  },
  {
   "cell_type": "code",
   "execution_count": 11,
   "metadata": {},
   "outputs": [
    {
     "name": "stdout",
     "output_type": "stream",
     "text": [
      "euclidean: 1.000000 (0.000000)\n",
      "manhattan: 0.997917 (0.006250)\n",
      "chebyshev: 0.998958 (0.003125)\n",
      "minkowski: 1.000000 (0.000000)\n",
      "hamming: 0.469792 (0.067580)\n",
      "canberra: 0.988542 (0.009827)\n",
      "braycurtis: 1.000000 (0.000000)\n"
     ]
    }
   ],
   "source": [
    "# Spot Check Algorithms\n",
    "models = []\n",
    "models.append(('euclidean', KNeighborsClassifier(metric='euclidean')))\n",
    "models.append(('manhattan', KNeighborsClassifier(metric='manhattan')))\n",
    "models.append(('chebyshev', KNeighborsClassifier(metric='chebyshev')))\n",
    "models.append(('minkowski', KNeighborsClassifier(metric='minkowski')))\n",
    "models.append(('hamming', KNeighborsClassifier(metric='hamming')))\n",
    "models.append(('canberra', KNeighborsClassifier(metric='canberra')))\n",
    "models.append(('braycurtis', KNeighborsClassifier(metric='braycurtis')))\n",
    "# evaluate each model in turn\n",
    "results = []\n",
    "names = []\n",
    "for name, model in models:\n",
    "\tkfold = model_selection.KFold(n_splits=10)\n",
    "\tcv_results = model_selection.cross_val_score(model, X_train, y_train, cv=kfold, scoring='accuracy')\n",
    "\tresults.append(cv_results)\n",
    "\tnames.append(name)\n",
    "\tmsg = \"%s: %f (%f)\" % (name, cv_results.mean(), cv_results.std())\n",
    "\tprint(msg)"
   ]
  },
  {
   "cell_type": "code",
   "execution_count": 12,
   "metadata": {
    "scrolled": true
   },
   "outputs": [
    {
     "data": {
      "image/png": "[encoded data removed]",
      "text/plain": [
       "<Figure size 720x288 with 1 Axes>"
      ]
     },
     "metadata": {
      "needs_background": "light"
     },
     "output_type": "display_data"
    }
   ],
   "source": [
    "# Compare Algorithms\n",
    "fig = plt.figure(figsize = (10,4))\n",
    "fig.suptitle('Algorithm Comparison')\n",
    "ax = fig.add_subplot(111)\n",
    "plt.boxplot(results)\n",
    "ax.set_xticklabels(names)\n",
    "plt.grid()\n",
    "plt.show()"
   ]
  },
  {
   "cell_type": "code",
   "execution_count": 13,
   "metadata": {},
   "outputs": [
    {
     "name": "stdout",
     "output_type": "stream",
     "text": [
      "1.0\n",
      "0.9951456310679612\n"
     ]
    },
    {
     "data": {
      "text/plain": [
       "{'metric': 'euclidean', 'n_neighbors': 2}"
      ]
     },
     "execution_count": 13,
     "metadata": {},
     "output_type": "execute_result"
    }
   ],
   "source": [
    "def param_selection(X, y, nfolds):\n",
    "    \n",
    "    Ks = range(1, 20)\n",
    "    metrics = ['euclidean', 'manhattan', 'minkowski', 'chebyshev']\n",
    "    param_grid = {'n_neighbors': Ks, 'metric' : metrics}\n",
    "    grid_search = GridSearchCV(KNeighborsClassifier(), param_grid, cv=nfolds)\n",
    "    grid_search.fit(X, y)\n",
    "    grid_search.best_params_\n",
    "\n",
    "    print(grid_search.score(X, y))\n",
    "    \n",
    "    y_pred = grid_search.predict(X_test)\n",
    "    print(accuracy_score(y_pred, y_test))\n",
    "    \n",
    "    return grid_search.best_params_\n",
    "\n",
    "param_selection(X_train, y_train, 10)"
   ]
  },
  {
   "cell_type": "code",
   "execution_count": 14,
   "metadata": {},
   "outputs": [
    {
     "name": "stdout",
     "output_type": "stream",
     "text": [
      "[[213   1]\n",
      " [  0 198]]\n"
     ]
    },
    {
     "data": {
      "image/png": "[encoded data removed]",
      "text/plain": [
       "<Figure size 360x288 with 2 Axes>"
      ]
     },
     "metadata": {
      "needs_background": "light"
     },
     "output_type": "display_data"
    }
   ],
   "source": [
    "import seaborn as sn\n",
    "import pandas as pd\n",
    "import matplotlib.pyplot as plt\n",
    "\n",
    "model = KNeighborsClassifier(n_neighbors=10, metric='manhattan')\n",
    "model.fit(X_train, y_train)\n",
    "y_pred = model.predict(X_test)\n",
    "\n",
    "cm=confusion_matrix(y_test,y_pred)\n",
    "\n",
    "print(cm)\n",
    "\n",
    "df_cm = pd.DataFrame(cm, index = [i for i in \"10\"], columns = [i for i in \"10\"])\n",
    "plt.figure(figsize = (5,4))\n",
    "sn.heatmap(df_cm, annot=True, fmt='d')\n",
    "plt.show()"
   ]
  },
  {
   "cell_type": "code",
   "execution_count": 15,
   "metadata": {},
   "outputs": [
    {
     "name": "stdout",
     "output_type": "stream",
     "text": [
      "             precision    recall  f1-score   support\n",
      "\n",
      "    class 1       1.00      1.00      1.00       214\n",
      "    class 0       0.99      1.00      1.00       198\n",
      "\n",
      "avg / total       1.00      1.00      1.00       412\n",
      "\n"
     ]
    }
   ],
   "source": [
    "target_names = ['class 1', 'class 0']\n",
    "print(classification_report(y_test, y_pred, target_names=target_names))"
   ]
  },
  {
   "cell_type": "code",
   "execution_count": 16,
   "metadata": {},
   "outputs": [],
   "source": [
    "### Neural Network Section"
   ]
  },
  {
   "cell_type": "code",
   "execution_count": 17,
   "metadata": {},
   "outputs": [
    {
     "name": "stdout",
     "output_type": "stream",
     "text": [
      "relu: 0.997917 (0.006250)\n",
      "logistic: 0.984375 (0.012543)\n",
      "tanh: 0.991667 (0.010206)\n",
      "identity: 0.988542 (0.011831)\n"
     ]
    }
   ],
   "source": [
    "# Spot Check Algorithms\n",
    "models = []\n",
    "models.append(('relu', MLPClassifier(activation='relu',max_iter=1000)))\n",
    "models.append(('logistic', MLPClassifier(activation='logistic',max_iter=1000)))\n",
    "models.append(('tanh', MLPClassifier(activation='tanh',max_iter=1000)))\n",
    "models.append(('identity', MLPClassifier(activation='identity',max_iter=1000)))\n",
    "# evaluate each model in turn\n",
    "results = []\n",
    "names = []\n",
    "for name, model in models:\n",
    "\tkfold = model_selection.KFold(n_splits=10)\n",
    "\tcv_results = model_selection.cross_val_score(model, X_train, y_train, cv=kfold, scoring='accuracy')\n",
    "\tresults.append(cv_results)\n",
    "\tnames.append(name)\n",
    "\tmsg = \"%s: %f (%f)\" % (name, cv_results.mean(), cv_results.std())\n",
    "\tprint(msg)"
   ]
  },
  {
   "cell_type": "code",
   "execution_count": 18,
   "metadata": {
    "scrolled": true
   },
   "outputs": [
    {
     "data": {
      "image/png": "[encoded data removed]",
      "text/plain": [
       "<Figure size 432x288 with 1 Axes>"
      ]
     },
     "metadata": {
      "needs_background": "light"
     },
     "output_type": "display_data"
    }
   ],
   "source": [
    "# Compare Algorithms\n",
    "fig = plt.figure()\n",
    "fig.suptitle('Algorithm Comparison')\n",
    "ax = fig.add_subplot(111)\n",
    "plt.boxplot(results)\n",
    "ax.set_xticklabels(names)\n",
    "plt.grid()\n",
    "plt.show()"
   ]
  },
  {
   "cell_type": "code",
   "execution_count": 22,
   "metadata": {},
   "outputs": [
    {
     "name": "stdout",
     "output_type": "stream",
     "text": [
      "1: 0.989583 (0.010417)\n",
      "0.9916666666666667 0.9805825242718447\n",
      "2: 0.989583 (0.010417)\n",
      "0.9916666666666667 0.9805825242718447\n",
      "3: 0.992708 (0.008136)\n",
      "0.99375 0.9878640776699029\n",
      "4: 0.993750 (0.009547)\n",
      "0.996875 0.9951456310679612\n",
      "5: 0.994792 (0.008398)\n",
      "0.9989583333333333 0.9951456310679612\n",
      "6: 0.995833 (0.006910)\n",
      "1.0 1.0\n",
      "7: 0.996875 (0.006670)\n",
      "1.0 1.0\n",
      "8: 0.994792 (0.008398)\n",
      "1.0 0.9975728155339806\n",
      "9: 0.995833 (0.008333)\n",
      "1.0 0.9975728155339806\n",
      "10: 0.996875 (0.006670)\n",
      "1.0 1.0\n",
      "11: 0.996875 (0.006670)\n",
      "0.9989583333333333 0.9951456310679612\n",
      "12: 0.997917 (0.006250)\n",
      "1.0 0.9975728155339806\n",
      "13: 0.996875 (0.006670)\n",
      "1.0 0.9975728155339806\n",
      "14: 0.997917 (0.006250)\n",
      "1.0 0.9975728155339806\n",
      "15: 0.996875 (0.006670)\n",
      "1.0 1.0\n",
      "16: 0.996875 (0.006670)\n",
      "1.0 0.9975728155339806\n",
      "17: 0.996875 (0.006670)\n",
      "1.0 1.0\n",
      "18: 0.997917 (0.006250)\n",
      "1.0 0.9975728155339806\n",
      "19: 0.997917 (0.006250)\n",
      "1.0 0.9975728155339806\n",
      "20: 0.996875 (0.006670)\n",
      "0.9989583333333333 0.9975728155339806\n"
     ]
    }
   ],
   "source": [
    "import time\n",
    "\n",
    "# Spot Check Algorithms\n",
    "models = []\n",
    "\n",
    "xx = range(1,21)\n",
    "\n",
    "for i in xx:\n",
    "    models.append((str(i), MLPClassifier(activation='tanh',max_iter=10000,hidden_layer_sizes=(i,i,) )))\n",
    "\n",
    "acc1 = []\n",
    "acc2 = []\n",
    "tim = []\n",
    "\n",
    "# evaluate each model in turn\n",
    "results = []\n",
    "names = []\n",
    "for name, model in models:\n",
    "\tstart_time = time.time()\n",
    "    \n",
    "\tkfold = model_selection.KFold(n_splits=10)\n",
    "\tcv_results = model_selection.cross_val_score(model, X_train, y_train, cv=kfold, scoring='accuracy')\n",
    "    \n",
    "\telapsed_time = time.time() - start_time\n",
    "\ttim.append(elapsed_time)\n",
    "    \n",
    "\tresults.append(cv_results)\n",
    "    \n",
    "\tnames.append(name)\n",
    "\tmsg = \"%s: %f (%f)\" % (name, cv_results.mean(), cv_results.std())\n",
    "\tprint(msg)\n",
    "    \n",
    "\tmodel.fit(X_train, y_train)\n",
    "\ts1 = model.score(X_train, y_train)\n",
    "\tacc1.append(s1)\n",
    "\ts2 = model.score(X_test, y_test)\n",
    "\tprint(s1, s2)\n",
    "    \n",
    "\tacc2.append(s2)"
   ]
  },
  {
   "cell_type": "code",
   "execution_count": 26,
   "metadata": {},
   "outputs": [
    {
     "data": {
      "image/png": "[encoded data removed]",
      "text/plain": [
       "<Figure size 432x288 with 1 Axes>"
      ]
     },
     "metadata": {
      "needs_background": "light"
     },
     "output_type": "display_data"
    }
   ],
   "source": [
    "fig = plt.figure( figsize=(6,4) )\n",
    "fig.suptitle('Accuracy - Train vs. Test')\n",
    "\n",
    "plt.plot(xx, acc1, c='blue', label='Train')\n",
    "plt.plot(xx, acc2, c='red', label='Test')\n",
    "\n",
    "plt.xlabel('hidden layer nodes')\n",
    "plt.ylabel('Accuracy')\n",
    "\n",
    "plt.grid()\n",
    "plt.legend(loc='best')\n",
    "plt.show()"
   ]
  },
  {
   "cell_type": "code",
   "execution_count": 27,
   "metadata": {},
   "outputs": [
    {
     "data": {
      "image/png": "[encoded data removed]",
      "text/plain": [
       "<Figure size 432x288 with 1 Axes>"
      ]
     },
     "metadata": {
      "needs_background": "light"
     },
     "output_type": "display_data"
    }
   ],
   "source": [
    "fig = plt.figure( figsize=(6,4) )\n",
    "fig.suptitle('Training Time vs. Node Count')\n",
    "\n",
    "plt.plot(xx, tim, c='green', label='Training Time')\n",
    "\n",
    "plt.xlabel('hidden layer nodes')\n",
    "plt.ylabel('Time (s)')\n",
    "\n",
    "plt.grid()\n",
    "plt.legend(loc='upper right')\n",
    "plt.show()"
   ]
  },
  {
   "cell_type": "code",
   "execution_count": 42,
   "metadata": {
    "scrolled": true
   },
   "outputs": [
    {
     "name": "stdout",
     "output_type": "stream",
     "text": [
      "Test: 1.0 , Train: 1.0\n"
     ]
    }
   ],
   "source": [
    "model = MLPClassifier(activation='relu',max_iter=10000,hidden_layer_sizes=(10,10,) )\n",
    "\n",
    "model.fit(X_train, y_train)\n",
    "\n",
    "print ( 'Test: {0} , Train: {1}'.format(model.score(X_train, y_train), model.score(X_test, y_test)) )"
   ]
  },
  {
   "cell_type": "code",
   "execution_count": null,
   "metadata": {},
   "outputs": [],
   "source": []
  }
 ],
 "metadata": {
  "kernelspec": {
   "display_name": "Python 3",
   "language": "python",
   "name": "python3"
  },
  "language_info": {
   "codemirror_mode": {
    "name": "ipython",
    "version": 3
   },
   "file_extension": ".py",
   "mimetype": "text/x-python",
   "name": "python",
   "nbconvert_exporter": "python",
   "pygments_lexer": "ipython3",
   "version": "3.6.4"
  }
 },
 "nbformat": 4,
 "nbformat_minor": 2
}
