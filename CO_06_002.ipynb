{
 "cells": [
  {
   "cell_type": "code",
   "execution_count": 1,
   "metadata": {},
   "outputs": [],
   "source": [
    "# 1.2. Load Data"
   ]
  },
  {
   "cell_type": "code",
   "execution_count": 2,
   "metadata": {},
   "outputs": [],
   "source": [
    "import numpy as np\n",
    "import pandas as pd\n",
    "\n",
    "%matplotlib inline\n",
    "import matplotlib.pyplot as plt\n",
    "import seaborn as sns\n",
    "\n",
    "import datetime\n",
    "\n",
    "import math"
   ]
  },
  {
   "cell_type": "code",
   "execution_count": 3,
   "metadata": {},
   "outputs": [
    {
     "data": {
      "text/html": [
       "<div>\n",
       "<style scoped>\n",
       "    .dataframe tbody tr th:only-of-type {\n",
       "        vertical-align: middle;\n",
       "    }\n",
       "\n",
       "    .dataframe tbody tr th {\n",
       "        vertical-align: top;\n",
       "    }\n",
       "\n",
       "    .dataframe thead th {\n",
       "        text-align: right;\n",
       "    }\n",
       "</style>\n",
       "<table border=\"1\" class=\"dataframe\">\n",
       "  <thead>\n",
       "    <tr style=\"text-align: right;\">\n",
       "      <th></th>\n",
       "      <th>Unnamed: 0</th>\n",
       "      <th>VendorID</th>\n",
       "      <th>lpep_pickup_datetime</th>\n",
       "      <th>Lpep_dropoff_datetime</th>\n",
       "      <th>Store_and_fwd_flag</th>\n",
       "      <th>RateCodeID</th>\n",
       "      <th>Pickup_longitude</th>\n",
       "      <th>Pickup_latitude</th>\n",
       "      <th>Dropoff_longitude</th>\n",
       "      <th>Dropoff_latitude</th>\n",
       "      <th>...</th>\n",
       "      <th>Fare_amount</th>\n",
       "      <th>Extra</th>\n",
       "      <th>MTA_tax</th>\n",
       "      <th>Tip_amount</th>\n",
       "      <th>Tolls_amount</th>\n",
       "      <th>Ehail_fee</th>\n",
       "      <th>improvement_surcharge</th>\n",
       "      <th>Total_amount</th>\n",
       "      <th>Payment_type</th>\n",
       "      <th>Trip_type</th>\n",
       "    </tr>\n",
       "  </thead>\n",
       "  <tbody>\n",
       "    <tr>\n",
       "      <th>0</th>\n",
       "      <td>0</td>\n",
       "      <td>2</td>\n",
       "      <td>2015-09-01 00:02:34</td>\n",
       "      <td>2015-09-01 00:02:38</td>\n",
       "      <td>N</td>\n",
       "      <td>5</td>\n",
       "      <td>-73.979485</td>\n",
       "      <td>40.684956</td>\n",
       "      <td>-73.979431</td>\n",
       "      <td>40.685020</td>\n",
       "      <td>...</td>\n",
       "      <td>7.8</td>\n",
       "      <td>0.0</td>\n",
       "      <td>0.0</td>\n",
       "      <td>1.95</td>\n",
       "      <td>0.0</td>\n",
       "      <td>NaN</td>\n",
       "      <td>0.0</td>\n",
       "      <td>9.75</td>\n",
       "      <td>1</td>\n",
       "      <td>2.0</td>\n",
       "    </tr>\n",
       "    <tr>\n",
       "      <th>1</th>\n",
       "      <td>1</td>\n",
       "      <td>2</td>\n",
       "      <td>2015-09-01 00:04:20</td>\n",
       "      <td>2015-09-01 00:04:24</td>\n",
       "      <td>N</td>\n",
       "      <td>5</td>\n",
       "      <td>-74.010796</td>\n",
       "      <td>40.912216</td>\n",
       "      <td>-74.010780</td>\n",
       "      <td>40.912212</td>\n",
       "      <td>...</td>\n",
       "      <td>45.0</td>\n",
       "      <td>0.0</td>\n",
       "      <td>0.0</td>\n",
       "      <td>0.00</td>\n",
       "      <td>0.0</td>\n",
       "      <td>NaN</td>\n",
       "      <td>0.0</td>\n",
       "      <td>45.00</td>\n",
       "      <td>1</td>\n",
       "      <td>2.0</td>\n",
       "    </tr>\n",
       "    <tr>\n",
       "      <th>2</th>\n",
       "      <td>2</td>\n",
       "      <td>2</td>\n",
       "      <td>2015-09-01 00:01:50</td>\n",
       "      <td>2015-09-01 00:04:24</td>\n",
       "      <td>N</td>\n",
       "      <td>1</td>\n",
       "      <td>-73.921410</td>\n",
       "      <td>40.766708</td>\n",
       "      <td>-73.914413</td>\n",
       "      <td>40.764687</td>\n",
       "      <td>...</td>\n",
       "      <td>4.0</td>\n",
       "      <td>0.5</td>\n",
       "      <td>0.5</td>\n",
       "      <td>0.50</td>\n",
       "      <td>0.0</td>\n",
       "      <td>NaN</td>\n",
       "      <td>0.3</td>\n",
       "      <td>5.80</td>\n",
       "      <td>1</td>\n",
       "      <td>1.0</td>\n",
       "    </tr>\n",
       "    <tr>\n",
       "      <th>3</th>\n",
       "      <td>3</td>\n",
       "      <td>2</td>\n",
       "      <td>2015-09-01 00:02:36</td>\n",
       "      <td>2015-09-01 00:06:42</td>\n",
       "      <td>N</td>\n",
       "      <td>1</td>\n",
       "      <td>-73.921387</td>\n",
       "      <td>40.766678</td>\n",
       "      <td>-73.931427</td>\n",
       "      <td>40.771584</td>\n",
       "      <td>...</td>\n",
       "      <td>5.0</td>\n",
       "      <td>0.5</td>\n",
       "      <td>0.5</td>\n",
       "      <td>0.00</td>\n",
       "      <td>0.0</td>\n",
       "      <td>NaN</td>\n",
       "      <td>0.3</td>\n",
       "      <td>6.30</td>\n",
       "      <td>2</td>\n",
       "      <td>1.0</td>\n",
       "    </tr>\n",
       "    <tr>\n",
       "      <th>4</th>\n",
       "      <td>4</td>\n",
       "      <td>2</td>\n",
       "      <td>2015-09-01 00:00:14</td>\n",
       "      <td>2015-09-01 00:04:20</td>\n",
       "      <td>N</td>\n",
       "      <td>1</td>\n",
       "      <td>-73.955482</td>\n",
       "      <td>40.714046</td>\n",
       "      <td>-73.944412</td>\n",
       "      <td>40.714729</td>\n",
       "      <td>...</td>\n",
       "      <td>5.0</td>\n",
       "      <td>0.5</td>\n",
       "      <td>0.5</td>\n",
       "      <td>0.00</td>\n",
       "      <td>0.0</td>\n",
       "      <td>NaN</td>\n",
       "      <td>0.3</td>\n",
       "      <td>6.30</td>\n",
       "      <td>2</td>\n",
       "      <td>1.0</td>\n",
       "    </tr>\n",
       "  </tbody>\n",
       "</table>\n",
       "<p>5 rows × 22 columns</p>\n",
       "</div>"
      ],
      "text/plain": [
       "   Unnamed: 0  VendorID lpep_pickup_datetime Lpep_dropoff_datetime  \\\n",
       "0           0         2  2015-09-01 00:02:34   2015-09-01 00:02:38   \n",
       "1           1         2  2015-09-01 00:04:20   2015-09-01 00:04:24   \n",
       "2           2         2  2015-09-01 00:01:50   2015-09-01 00:04:24   \n",
       "3           3         2  2015-09-01 00:02:36   2015-09-01 00:06:42   \n",
       "4           4         2  2015-09-01 00:00:14   2015-09-01 00:04:20   \n",
       "\n",
       "  Store_and_fwd_flag  RateCodeID  Pickup_longitude  Pickup_latitude  \\\n",
       "0                  N           5        -73.979485        40.684956   \n",
       "1                  N           5        -74.010796        40.912216   \n",
       "2                  N           1        -73.921410        40.766708   \n",
       "3                  N           1        -73.921387        40.766678   \n",
       "4                  N           1        -73.955482        40.714046   \n",
       "\n",
       "   Dropoff_longitude  Dropoff_latitude     ...      Fare_amount  Extra  \\\n",
       "0         -73.979431         40.685020     ...              7.8    0.0   \n",
       "1         -74.010780         40.912212     ...             45.0    0.0   \n",
       "2         -73.914413         40.764687     ...              4.0    0.5   \n",
       "3         -73.931427         40.771584     ...              5.0    0.5   \n",
       "4         -73.944412         40.714729     ...              5.0    0.5   \n",
       "\n",
       "   MTA_tax  Tip_amount  Tolls_amount  Ehail_fee  improvement_surcharge  \\\n",
       "0      0.0        1.95           0.0        NaN                    0.0   \n",
       "1      0.0        0.00           0.0        NaN                    0.0   \n",
       "2      0.5        0.50           0.0        NaN                    0.3   \n",
       "3      0.5        0.00           0.0        NaN                    0.3   \n",
       "4      0.5        0.00           0.0        NaN                    0.3   \n",
       "\n",
       "   Total_amount  Payment_type  Trip_type   \n",
       "0          9.75             1         2.0  \n",
       "1         45.00             1         2.0  \n",
       "2          5.80             1         1.0  \n",
       "3          6.30             2         1.0  \n",
       "4          6.30             2         1.0  \n",
       "\n",
       "[5 rows x 22 columns]"
      ]
     },
     "execution_count": 3,
     "metadata": {},
     "output_type": "execute_result"
    }
   ],
   "source": [
    "df0 = pd.read_csv('green_tripdata_2015-09.csv')\n",
    "\n",
    "df0.head()"
   ]
  },
  {
   "cell_type": "code",
   "execution_count": 4,
   "metadata": {},
   "outputs": [],
   "source": [
    "df0.drop(df0.columns[0], axis=1, inplace=True)\n",
    "\n",
    "col_names=['VendorID','Lpep_pickup_datetime','Lpep_dropoff_datetime','Store_and_fwd_flag','RateCodeID','Pickup_longitude','Pickup_latitude','Dropoff_longitude','Dropoff_latitude','Passenger_count','Trip_distance','Fare_amount','Extra','MTA_tax','Tip_amount','Tolls_amount','Ehail_fee','improvement_surcharge','Total_amount','Payment_type','Trip_type']\n",
    "\n",
    "df0.columns = col_names"
   ]
  },
  {
   "cell_type": "code",
   "execution_count": 5,
   "metadata": {},
   "outputs": [
    {
     "data": {
      "text/plain": [
       "(1494926, 21)"
      ]
     },
     "execution_count": 5,
     "metadata": {},
     "output_type": "execute_result"
    }
   ],
   "source": [
    "df0.shape"
   ]
  },
  {
   "cell_type": "code",
   "execution_count": 6,
   "metadata": {},
   "outputs": [],
   "source": [
    "df = df0.copy()"
   ]
  },
  {
   "cell_type": "code",
   "execution_count": null,
   "metadata": {},
   "outputs": [],
   "source": []
  },
  {
   "cell_type": "code",
   "execution_count": 7,
   "metadata": {},
   "outputs": [],
   "source": [
    "# Checking the Dataset"
   ]
  },
  {
   "cell_type": "code",
   "execution_count": 8,
   "metadata": {},
   "outputs": [
    {
     "data": {
      "text/html": [
       "<div>\n",
       "<style scoped>\n",
       "    .dataframe tbody tr th:only-of-type {\n",
       "        vertical-align: middle;\n",
       "    }\n",
       "\n",
       "    .dataframe tbody tr th {\n",
       "        vertical-align: top;\n",
       "    }\n",
       "\n",
       "    .dataframe thead th {\n",
       "        text-align: right;\n",
       "    }\n",
       "</style>\n",
       "<table border=\"1\" class=\"dataframe\">\n",
       "  <thead>\n",
       "    <tr style=\"text-align: right;\">\n",
       "      <th></th>\n",
       "      <th>count</th>\n",
       "      <th>mean</th>\n",
       "      <th>std</th>\n",
       "      <th>min</th>\n",
       "      <th>25%</th>\n",
       "      <th>50%</th>\n",
       "      <th>75%</th>\n",
       "      <th>max</th>\n",
       "    </tr>\n",
       "  </thead>\n",
       "  <tbody>\n",
       "    <tr>\n",
       "      <th>VendorID</th>\n",
       "      <td>1494926.0</td>\n",
       "      <td>1.782045</td>\n",
       "      <td>0.412857</td>\n",
       "      <td>1.000000</td>\n",
       "      <td>2.000000</td>\n",
       "      <td>2.000000</td>\n",
       "      <td>2.000000</td>\n",
       "      <td>2.000000</td>\n",
       "    </tr>\n",
       "    <tr>\n",
       "      <th>RateCodeID</th>\n",
       "      <td>1494926.0</td>\n",
       "      <td>1.097653</td>\n",
       "      <td>0.635944</td>\n",
       "      <td>1.000000</td>\n",
       "      <td>1.000000</td>\n",
       "      <td>1.000000</td>\n",
       "      <td>1.000000</td>\n",
       "      <td>99.000000</td>\n",
       "    </tr>\n",
       "    <tr>\n",
       "      <th>Pickup_longitude</th>\n",
       "      <td>1494926.0</td>\n",
       "      <td>-73.830839</td>\n",
       "      <td>2.776082</td>\n",
       "      <td>-83.319077</td>\n",
       "      <td>-73.959610</td>\n",
       "      <td>-73.945358</td>\n",
       "      <td>-73.917480</td>\n",
       "      <td>0.000000</td>\n",
       "    </tr>\n",
       "    <tr>\n",
       "      <th>Pickup_latitude</th>\n",
       "      <td>1494926.0</td>\n",
       "      <td>40.691144</td>\n",
       "      <td>1.530882</td>\n",
       "      <td>0.000000</td>\n",
       "      <td>40.698952</td>\n",
       "      <td>40.746738</td>\n",
       "      <td>40.802551</td>\n",
       "      <td>43.177261</td>\n",
       "    </tr>\n",
       "    <tr>\n",
       "      <th>Dropoff_longitude</th>\n",
       "      <td>1494926.0</td>\n",
       "      <td>-73.837278</td>\n",
       "      <td>2.677911</td>\n",
       "      <td>-83.427841</td>\n",
       "      <td>-73.967819</td>\n",
       "      <td>-73.945038</td>\n",
       "      <td>-73.910133</td>\n",
       "      <td>0.000000</td>\n",
       "    </tr>\n",
       "    <tr>\n",
       "      <th>Dropoff_latitude</th>\n",
       "      <td>1494926.0</td>\n",
       "      <td>40.692905</td>\n",
       "      <td>1.476698</td>\n",
       "      <td>0.000000</td>\n",
       "      <td>40.698776</td>\n",
       "      <td>40.747284</td>\n",
       "      <td>40.790146</td>\n",
       "      <td>42.799343</td>\n",
       "    </tr>\n",
       "    <tr>\n",
       "      <th>Passenger_count</th>\n",
       "      <td>1494926.0</td>\n",
       "      <td>1.370598</td>\n",
       "      <td>1.039426</td>\n",
       "      <td>0.000000</td>\n",
       "      <td>1.000000</td>\n",
       "      <td>1.000000</td>\n",
       "      <td>1.000000</td>\n",
       "      <td>9.000000</td>\n",
       "    </tr>\n",
       "    <tr>\n",
       "      <th>Trip_distance</th>\n",
       "      <td>1494926.0</td>\n",
       "      <td>2.968141</td>\n",
       "      <td>3.076621</td>\n",
       "      <td>0.000000</td>\n",
       "      <td>1.100000</td>\n",
       "      <td>1.980000</td>\n",
       "      <td>3.740000</td>\n",
       "      <td>603.100000</td>\n",
       "    </tr>\n",
       "    <tr>\n",
       "      <th>Fare_amount</th>\n",
       "      <td>1494926.0</td>\n",
       "      <td>12.543198</td>\n",
       "      <td>10.082781</td>\n",
       "      <td>-475.000000</td>\n",
       "      <td>6.500000</td>\n",
       "      <td>9.500000</td>\n",
       "      <td>15.500000</td>\n",
       "      <td>580.500000</td>\n",
       "    </tr>\n",
       "    <tr>\n",
       "      <th>Extra</th>\n",
       "      <td>1494926.0</td>\n",
       "      <td>0.351280</td>\n",
       "      <td>0.366310</td>\n",
       "      <td>-1.000000</td>\n",
       "      <td>0.000000</td>\n",
       "      <td>0.500000</td>\n",
       "      <td>0.500000</td>\n",
       "      <td>12.000000</td>\n",
       "    </tr>\n",
       "    <tr>\n",
       "      <th>MTA_tax</th>\n",
       "      <td>1494926.0</td>\n",
       "      <td>0.486641</td>\n",
       "      <td>0.085045</td>\n",
       "      <td>-0.500000</td>\n",
       "      <td>0.500000</td>\n",
       "      <td>0.500000</td>\n",
       "      <td>0.500000</td>\n",
       "      <td>0.500000</td>\n",
       "    </tr>\n",
       "    <tr>\n",
       "      <th>Tip_amount</th>\n",
       "      <td>1494926.0</td>\n",
       "      <td>1.235727</td>\n",
       "      <td>2.431476</td>\n",
       "      <td>-50.000000</td>\n",
       "      <td>0.000000</td>\n",
       "      <td>0.000000</td>\n",
       "      <td>2.000000</td>\n",
       "      <td>300.000000</td>\n",
       "    </tr>\n",
       "    <tr>\n",
       "      <th>Tolls_amount</th>\n",
       "      <td>1494926.0</td>\n",
       "      <td>0.123105</td>\n",
       "      <td>0.891014</td>\n",
       "      <td>-15.290000</td>\n",
       "      <td>0.000000</td>\n",
       "      <td>0.000000</td>\n",
       "      <td>0.000000</td>\n",
       "      <td>95.750000</td>\n",
       "    </tr>\n",
       "    <tr>\n",
       "      <th>Ehail_fee</th>\n",
       "      <td>0.0</td>\n",
       "      <td>NaN</td>\n",
       "      <td>NaN</td>\n",
       "      <td>NaN</td>\n",
       "      <td>NaN</td>\n",
       "      <td>NaN</td>\n",
       "      <td>NaN</td>\n",
       "      <td>NaN</td>\n",
       "    </tr>\n",
       "    <tr>\n",
       "      <th>improvement_surcharge</th>\n",
       "      <td>1494926.0</td>\n",
       "      <td>0.292099</td>\n",
       "      <td>0.050740</td>\n",
       "      <td>-0.300000</td>\n",
       "      <td>0.300000</td>\n",
       "      <td>0.300000</td>\n",
       "      <td>0.300000</td>\n",
       "      <td>0.300000</td>\n",
       "    </tr>\n",
       "    <tr>\n",
       "      <th>Total_amount</th>\n",
       "      <td>1494926.0</td>\n",
       "      <td>15.032146</td>\n",
       "      <td>11.553155</td>\n",
       "      <td>-475.000000</td>\n",
       "      <td>8.160000</td>\n",
       "      <td>11.760000</td>\n",
       "      <td>18.300000</td>\n",
       "      <td>581.300000</td>\n",
       "    </tr>\n",
       "    <tr>\n",
       "      <th>Payment_type</th>\n",
       "      <td>1494926.0</td>\n",
       "      <td>1.540559</td>\n",
       "      <td>0.523293</td>\n",
       "      <td>1.000000</td>\n",
       "      <td>1.000000</td>\n",
       "      <td>2.000000</td>\n",
       "      <td>2.000000</td>\n",
       "      <td>5.000000</td>\n",
       "    </tr>\n",
       "    <tr>\n",
       "      <th>Trip_type</th>\n",
       "      <td>1494922.0</td>\n",
       "      <td>1.022353</td>\n",
       "      <td>0.147829</td>\n",
       "      <td>1.000000</td>\n",
       "      <td>1.000000</td>\n",
       "      <td>1.000000</td>\n",
       "      <td>1.000000</td>\n",
       "      <td>2.000000</td>\n",
       "    </tr>\n",
       "  </tbody>\n",
       "</table>\n",
       "</div>"
      ],
      "text/plain": [
       "                           count       mean        std         min        25%  \\\n",
       "VendorID               1494926.0   1.782045   0.412857    1.000000   2.000000   \n",
       "RateCodeID             1494926.0   1.097653   0.635944    1.000000   1.000000   \n",
       "Pickup_longitude       1494926.0 -73.830839   2.776082  -83.319077 -73.959610   \n",
       "Pickup_latitude        1494926.0  40.691144   1.530882    0.000000  40.698952   \n",
       "Dropoff_longitude      1494926.0 -73.837278   2.677911  -83.427841 -73.967819   \n",
       "Dropoff_latitude       1494926.0  40.692905   1.476698    0.000000  40.698776   \n",
       "Passenger_count        1494926.0   1.370598   1.039426    0.000000   1.000000   \n",
       "Trip_distance          1494926.0   2.968141   3.076621    0.000000   1.100000   \n",
       "Fare_amount            1494926.0  12.543198  10.082781 -475.000000   6.500000   \n",
       "Extra                  1494926.0   0.351280   0.366310   -1.000000   0.000000   \n",
       "MTA_tax                1494926.0   0.486641   0.085045   -0.500000   0.500000   \n",
       "Tip_amount             1494926.0   1.235727   2.431476  -50.000000   0.000000   \n",
       "Tolls_amount           1494926.0   0.123105   0.891014  -15.290000   0.000000   \n",
       "Ehail_fee                    0.0        NaN        NaN         NaN        NaN   \n",
       "improvement_surcharge  1494926.0   0.292099   0.050740   -0.300000   0.300000   \n",
       "Total_amount           1494926.0  15.032146  11.553155 -475.000000   8.160000   \n",
       "Payment_type           1494926.0   1.540559   0.523293    1.000000   1.000000   \n",
       "Trip_type              1494922.0   1.022353   0.147829    1.000000   1.000000   \n",
       "\n",
       "                             50%        75%         max  \n",
       "VendorID                2.000000   2.000000    2.000000  \n",
       "RateCodeID              1.000000   1.000000   99.000000  \n",
       "Pickup_longitude      -73.945358 -73.917480    0.000000  \n",
       "Pickup_latitude        40.746738  40.802551   43.177261  \n",
       "Dropoff_longitude     -73.945038 -73.910133    0.000000  \n",
       "Dropoff_latitude       40.747284  40.790146   42.799343  \n",
       "Passenger_count         1.000000   1.000000    9.000000  \n",
       "Trip_distance           1.980000   3.740000  603.100000  \n",
       "Fare_amount             9.500000  15.500000  580.500000  \n",
       "Extra                   0.500000   0.500000   12.000000  \n",
       "MTA_tax                 0.500000   0.500000    0.500000  \n",
       "Tip_amount              0.000000   2.000000  300.000000  \n",
       "Tolls_amount            0.000000   0.000000   95.750000  \n",
       "Ehail_fee                    NaN        NaN         NaN  \n",
       "improvement_surcharge   0.300000   0.300000    0.300000  \n",
       "Total_amount           11.760000  18.300000  581.300000  \n",
       "Payment_type            2.000000   2.000000    5.000000  \n",
       "Trip_type               1.000000   1.000000    2.000000  "
      ]
     },
     "execution_count": 8,
     "metadata": {},
     "output_type": "execute_result"
    }
   ],
   "source": [
    "df.describe().transpose()"
   ]
  },
  {
   "cell_type": "code",
   "execution_count": 9,
   "metadata": {},
   "outputs": [],
   "source": [
    "df.drop('Ehail_fee', axis=1, inplace=True)"
   ]
  },
  {
   "cell_type": "code",
   "execution_count": null,
   "metadata": {},
   "outputs": [],
   "source": []
  },
  {
   "cell_type": "code",
   "execution_count": 10,
   "metadata": {},
   "outputs": [],
   "source": [
    "# 2. Histogram of Trip Distance"
   ]
  },
  {
   "cell_type": "code",
   "execution_count": 11,
   "metadata": {
    "scrolled": true
   },
   "outputs": [
    {
     "data": {
      "text/plain": [
       "<matplotlib.axes._subplots.AxesSubplot at 0x25f223215f8>"
      ]
     },
     "execution_count": 11,
     "metadata": {},
     "output_type": "execute_result"
    },
    {
     "data": {
      "image/png": "[encoded data removed]",
      "text/plain": [
       "<matplotlib.figure.Figure at 0x25f22329630>"
      ]
     },
     "metadata": {
      "needs_background": "light"
     },
     "output_type": "display_data"
    }
   ],
   "source": [
    "df['Trip_distance'].hist(bins=100)"
   ]
  },
  {
   "cell_type": "code",
   "execution_count": 12,
   "metadata": {},
   "outputs": [
    {
     "data": {
      "text/plain": [
       "1.3774594862889533"
      ]
     },
     "execution_count": 12,
     "metadata": {},
     "output_type": "execute_result"
    }
   ],
   "source": [
    "df[(df.Trip_distance == 0)].shape[0] / df.shape[0] * 100"
   ]
  },
  {
   "cell_type": "code",
   "execution_count": 13,
   "metadata": {},
   "outputs": [],
   "source": [
    "df = df[~(df.Trip_distance == 0)]"
   ]
  },
  {
   "cell_type": "code",
   "execution_count": null,
   "metadata": {},
   "outputs": [],
   "source": []
  },
  {
   "cell_type": "code",
   "execution_count": 14,
   "metadata": {},
   "outputs": [],
   "source": [
    "Q1 = df['Trip_distance'].quantile(0.25)\n",
    "Q3 = df['Trip_distance'].quantile(0.75)\n",
    "IQR = Q3 - Q1\n",
    "\n",
    "#Values between Q1-1.5IQR and Q3+1.5IQR\n",
    "df2 = df.query('(@Q1 - 1.5 * @IQR) <= Trip_distance <= (@Q3 + 1.5 * @IQR)')"
   ]
  },
  {
   "cell_type": "code",
   "execution_count": 15,
   "metadata": {},
   "outputs": [
    {
     "data": {
      "text/plain": [
       "0.06753557877658656"
      ]
     },
     "execution_count": 15,
     "metadata": {},
     "output_type": "execute_result"
    }
   ],
   "source": [
    "1 - df2.shape[0] / df.shape[0]"
   ]
  },
  {
   "cell_type": "code",
   "execution_count": 16,
   "metadata": {},
   "outputs": [
    {
     "data": {
      "text/plain": [
       "<matplotlib.axes._subplots.AxesSubplot at 0x25f24351cf8>"
      ]
     },
     "execution_count": 16,
     "metadata": {},
     "output_type": "execute_result"
    },
    {
     "data": {
      "image/png": "[encoded data removed]",
      "text/plain": [
       "<matplotlib.figure.Figure at 0x25f22420dd8>"
      ]
     },
     "metadata": {
      "needs_background": "light"
     },
     "output_type": "display_data"
    }
   ],
   "source": [
    "df2.Trip_distance.hist(bins=20)\n",
    "# plt.xlim(0, 20)"
   ]
  },
  {
   "cell_type": "code",
   "execution_count": 17,
   "metadata": {},
   "outputs": [],
   "source": [
    "df['log_Trip_distance'] = np.log(df['Trip_distance'])"
   ]
  },
  {
   "cell_type": "code",
   "execution_count": 18,
   "metadata": {
    "scrolled": true
   },
   "outputs": [
    {
     "data": {
      "text/plain": [
       "<matplotlib.axes._subplots.AxesSubplot at 0x25f227dbeb8>"
      ]
     },
     "execution_count": 18,
     "metadata": {},
     "output_type": "execute_result"
    },
    {
     "data": {
      "image/png": "[encoded data removed]",
      "text/plain": [
       "<matplotlib.figure.Figure at 0x25f223c1f98>"
      ]
     },
     "metadata": {
      "needs_background": "light"
     },
     "output_type": "display_data"
    }
   ],
   "source": [
    "df['log_Trip_distance'].hist(bins=50)\n",
    "# plt.xlim(0, 20)"
   ]
  },
  {
   "cell_type": "code",
   "execution_count": 19,
   "metadata": {},
   "outputs": [
    {
     "data": {
      "image/png": "[encoded data removed]",
      "text/plain": [
       "<matplotlib.figure.Figure at 0x25f227cc978>"
      ]
     },
     "metadata": {
      "needs_background": "light"
     },
     "output_type": "display_data"
    }
   ],
   "source": [
    "import statsmodels.graphics.gofplots as sm\n",
    "\n",
    "fig, ax = plt.subplots(1, 2, figsize=(10, 4))\n",
    "probplot = sm.ProbPlot(df.log_Trip_distance, fit=True)\n",
    "probplot.ppplot(line='45', ax=ax[0])\n",
    "probplot.qqplot(line='45', ax=ax[1])\n",
    "ax[0].set_title('P-P Plot')\n",
    "ax[1].set_title('Q-Q Plot')\n",
    "plt.show()"
   ]
  },
  {
   "cell_type": "code",
   "execution_count": 20,
   "metadata": {},
   "outputs": [],
   "source": [
    "df['log_Trip_distance_norm'] = (df['log_Trip_distance'] - df['log_Trip_distance'].mean()) / df['log_Trip_distance'].std()"
   ]
  },
  {
   "cell_type": "code",
   "execution_count": 21,
   "metadata": {},
   "outputs": [],
   "source": [
    "df = df[(np.abs(df['log_Trip_distance_norm']) <= 3) | (df.log_Trip_distance.isnull())]"
   ]
  },
  {
   "cell_type": "code",
   "execution_count": 22,
   "metadata": {
    "scrolled": true
   },
   "outputs": [
    {
     "data": {
      "text/plain": [
       "<matplotlib.axes._subplots.AxesSubplot at 0x25f23812358>"
      ]
     },
     "execution_count": 22,
     "metadata": {},
     "output_type": "execute_result"
    },
    {
     "data": {
      "image/png": "[encoded data removed]",
      "text/plain": [
       "<matplotlib.figure.Figure at 0x25f2283f0b8>"
      ]
     },
     "metadata": {
      "needs_background": "light"
     },
     "output_type": "display_data"
    }
   ],
   "source": [
    "df['Trip_distance'].hist(bins=50)"
   ]
  },
  {
   "cell_type": "code",
   "execution_count": null,
   "metadata": {},
   "outputs": [],
   "source": []
  },
  {
   "cell_type": "code",
   "execution_count": 23,
   "metadata": {},
   "outputs": [],
   "source": [
    "from scipy.stats import kstest,lognorm"
   ]
  },
  {
   "cell_type": "code",
   "execution_count": 24,
   "metadata": {},
   "outputs": [
    {
     "data": {
      "text/plain": [
       "(0.8939758478116688, 0.07182157590351311, 1.9900852256267207)"
      ]
     },
     "execution_count": 24,
     "metadata": {},
     "output_type": "execute_result"
    }
   ],
   "source": [
    "parameters = lognorm.fit(df['Trip_distance'].values)\n",
    "\n",
    "x = np.linspace(0, 30, 300)\n",
    "pdf = lognorm.pdf(x, parameters[0], parameters[1], parameters[2])\n",
    "\n",
    "parameters"
   ]
  },
  {
   "cell_type": "code",
   "execution_count": 25,
   "metadata": {},
   "outputs": [
    {
     "data": {
      "image/png": "[encoded data removed]",
      "text/plain": [
       "<matplotlib.figure.Figure at 0x25f2379e668>"
      ]
     },
     "metadata": {
      "needs_background": "light"
     },
     "output_type": "display_data"
    }
   ],
   "source": [
    "plt.figure(figsize=(16,6))\n",
    "\n",
    "values, bins, _ = plt.hist(df['Trip_distance'].values, bins=100, normed=True)\n",
    "\n",
    "plt.plot(x, pdf, 'r')\n",
    "\n",
    "plt.grid()"
   ]
  },
  {
   "cell_type": "code",
   "execution_count": 26,
   "metadata": {},
   "outputs": [
    {
     "data": {
      "text/plain": [
       "KstestResult(statistic=0.9823043600493014, pvalue=0.0)"
      ]
     },
     "execution_count": 26,
     "metadata": {},
     "output_type": "execute_result"
    }
   ],
   "source": [
    "# Kolmogorov-Smirnov Test\n",
    "test_stat = kstest(values, 'lognorm', parameters)\n",
    "test_stat"
   ]
  },
  {
   "cell_type": "code",
   "execution_count": null,
   "metadata": {},
   "outputs": [],
   "source": []
  },
  {
   "cell_type": "code",
   "execution_count": 27,
   "metadata": {},
   "outputs": [
    {
     "data": {
      "text/plain": [
       "0.3297153170123471"
      ]
     },
     "execution_count": 27,
     "metadata": {},
     "output_type": "execute_result"
    }
   ],
   "source": [
    "df[~( (df['Fare_amount'] >= 2.5) & \\\n",
    "        (df['Extra'] >= 0) & \\\n",
    "        (df['MTA_tax'] >= 0) & \\\n",
    "        (df['Tip_amount'] >= 0) & \\\n",
    "        (df['Tolls_amount'] >= 0) & \\\n",
    "        (df['improvement_surcharge'] >= 0) & \\\n",
    "        (df['Total_amount'] >= 2.5) )].shape[0] / df0.shape[0] * 100"
   ]
  },
  {
   "cell_type": "code",
   "execution_count": 28,
   "metadata": {},
   "outputs": [],
   "source": [
    "df = df[(df['Fare_amount'] >= 2.5) & \\\n",
    "        (df['Extra'] >= 0) & \\\n",
    "        (df['MTA_tax'] >= 0) & \\\n",
    "        (df['Tip_amount'] >= 0) & \\\n",
    "        (df['Tolls_amount'] >= 0) & \\\n",
    "        (df['improvement_surcharge'] >= 0) & \\\n",
    "        (df['Total_amount'] >= 2.5)]"
   ]
  },
  {
   "cell_type": "code",
   "execution_count": null,
   "metadata": {},
   "outputs": [],
   "source": []
  },
  {
   "cell_type": "code",
   "execution_count": 29,
   "metadata": {},
   "outputs": [],
   "source": [
    "# 1.5. Add Useful Derived Variables"
   ]
  },
  {
   "cell_type": "code",
   "execution_count": 30,
   "metadata": {},
   "outputs": [],
   "source": [
    "# Trip Duration:"
   ]
  },
  {
   "cell_type": "code",
   "execution_count": 31,
   "metadata": {},
   "outputs": [],
   "source": [
    "df['Lpep_pickup_datetime'] = pd.to_datetime(df['Lpep_pickup_datetime'])\n",
    "df['Lpep_dropoff_datetime'] = pd.to_datetime(df['Lpep_dropoff_datetime'])"
   ]
  },
  {
   "cell_type": "code",
   "execution_count": 32,
   "metadata": {},
   "outputs": [],
   "source": [
    "df['trip_duration'] = df['Lpep_dropoff_datetime'] - df['Lpep_pickup_datetime']"
   ]
  },
  {
   "cell_type": "code",
   "execution_count": 33,
   "metadata": {},
   "outputs": [],
   "source": [
    "df['trip_duration'] = df['trip_duration'].dt.seconds / 60"
   ]
  },
  {
   "cell_type": "code",
   "execution_count": 34,
   "metadata": {},
   "outputs": [
    {
     "data": {
      "text/html": [
       "<div>\n",
       "<style scoped>\n",
       "    .dataframe tbody tr th:only-of-type {\n",
       "        vertical-align: middle;\n",
       "    }\n",
       "\n",
       "    .dataframe tbody tr th {\n",
       "        vertical-align: top;\n",
       "    }\n",
       "\n",
       "    .dataframe thead th {\n",
       "        text-align: right;\n",
       "    }\n",
       "</style>\n",
       "<table border=\"1\" class=\"dataframe\">\n",
       "  <thead>\n",
       "    <tr style=\"text-align: right;\">\n",
       "      <th></th>\n",
       "      <th>count</th>\n",
       "      <th>mean</th>\n",
       "      <th>std</th>\n",
       "      <th>min</th>\n",
       "      <th>25%</th>\n",
       "      <th>50%</th>\n",
       "      <th>75%</th>\n",
       "      <th>max</th>\n",
       "    </tr>\n",
       "  </thead>\n",
       "  <tbody>\n",
       "    <tr>\n",
       "      <th>Trip_distance</th>\n",
       "      <td>1459375.0</td>\n",
       "      <td>3.017384</td>\n",
       "      <td>2.946969</td>\n",
       "      <td>0.14</td>\n",
       "      <td>1.120000</td>\n",
       "      <td>2.01</td>\n",
       "      <td>3.800000</td>\n",
       "      <td>30.93</td>\n",
       "    </tr>\n",
       "    <tr>\n",
       "      <th>trip_duration</th>\n",
       "      <td>1459375.0</td>\n",
       "      <td>20.435477</td>\n",
       "      <td>96.775769</td>\n",
       "      <td>0.00</td>\n",
       "      <td>6.383333</td>\n",
       "      <td>10.60</td>\n",
       "      <td>17.416667</td>\n",
       "      <td>1439.90</td>\n",
       "    </tr>\n",
       "  </tbody>\n",
       "</table>\n",
       "</div>"
      ],
      "text/plain": [
       "                   count       mean        std   min       25%    50%  \\\n",
       "Trip_distance  1459375.0   3.017384   2.946969  0.14  1.120000   2.01   \n",
       "trip_duration  1459375.0  20.435477  96.775769  0.00  6.383333  10.60   \n",
       "\n",
       "                     75%      max  \n",
       "Trip_distance   3.800000    30.93  \n",
       "trip_duration  17.416667  1439.90  "
      ]
     },
     "execution_count": 34,
     "metadata": {},
     "output_type": "execute_result"
    }
   ],
   "source": [
    "df[['Trip_distance', 'trip_duration']].describe().transpose()"
   ]
  },
  {
   "cell_type": "code",
   "execution_count": 35,
   "metadata": {
    "scrolled": true
   },
   "outputs": [
    {
     "data": {
      "text/plain": [
       "<matplotlib.axes._subplots.AxesSubplot at 0x25f13c57f60>"
      ]
     },
     "execution_count": 35,
     "metadata": {},
     "output_type": "execute_result"
    },
    {
     "data": {
      "image/png": "[encoded data removed]",
      "text/plain": [
       "<matplotlib.figure.Figure at 0x25f2394e438>"
      ]
     },
     "metadata": {
      "needs_background": "light"
     },
     "output_type": "display_data"
    }
   ],
   "source": [
    "df['trip_duration'].hist(bins=1000)\n",
    "# plt.xlim(0,100)"
   ]
  },
  {
   "cell_type": "code",
   "execution_count": 36,
   "metadata": {},
   "outputs": [],
   "source": [
    "df = df[df['trip_duration'] > 0]"
   ]
  },
  {
   "cell_type": "code",
   "execution_count": 37,
   "metadata": {},
   "outputs": [],
   "source": [
    "df['log_trip_duration'] = np.log(df['trip_duration'])"
   ]
  },
  {
   "cell_type": "code",
   "execution_count": 38,
   "metadata": {},
   "outputs": [],
   "source": [
    "df['log_trip_duration_norm'] = (df['log_trip_duration'] - df['log_trip_duration'].mean()) / df['log_trip_duration'].std()"
   ]
  },
  {
   "cell_type": "code",
   "execution_count": 39,
   "metadata": {},
   "outputs": [],
   "source": [
    "df = df[(np.abs(df['log_trip_duration_norm']) <= 3)]"
   ]
  },
  {
   "cell_type": "code",
   "execution_count": 40,
   "metadata": {
    "scrolled": true
   },
   "outputs": [
    {
     "data": {
      "image/png": "[encoded data removed]",
      "text/plain": [
       "<matplotlib.figure.Figure at 0x25f08b5a208>"
      ]
     },
     "metadata": {
      "needs_background": "light"
     },
     "output_type": "display_data"
    }
   ],
   "source": [
    "plt.hist(df['trip_duration'].values, bins=100)\n",
    "plt.grid()"
   ]
  },
  {
   "cell_type": "code",
   "execution_count": 41,
   "metadata": {},
   "outputs": [
    {
     "data": {
      "text/plain": [
       "(0.6988860933055185, -0.2452485153912114, 10.747303177521037)"
      ]
     },
     "execution_count": 41,
     "metadata": {},
     "output_type": "execute_result"
    }
   ],
   "source": [
    "from scipy.stats import kstest,lognorm\n",
    "\n",
    "parameters = lognorm.fit(df['trip_duration'].values)\n",
    "\n",
    "x = np.linspace(0, 120, 121)\n",
    "pdf = lognorm.pdf(x, parameters[0], parameters[1], parameters[2])\n",
    "\n",
    "parameters"
   ]
  },
  {
   "cell_type": "code",
   "execution_count": 42,
   "metadata": {},
   "outputs": [
    {
     "data": {
      "image/png": "[encoded data removed]",
      "text/plain": [
       "<matplotlib.figure.Figure at 0x25f238a8e80>"
      ]
     },
     "metadata": {
      "needs_background": "light"
     },
     "output_type": "display_data"
    }
   ],
   "source": [
    "plt.figure(figsize=(16,6))\n",
    "\n",
    "values, bins, _ = plt.hist(df['trip_duration'].values, bins=100, normed=True)\n",
    "\n",
    "plt.plot(x, pdf, 'r')\n",
    "\n",
    "plt.grid()"
   ]
  },
  {
   "cell_type": "code",
   "execution_count": 43,
   "metadata": {},
   "outputs": [
    {
     "data": {
      "text/plain": [
       "KstestResult(statistic=0.9999997954245694, pvalue=0.0)"
      ]
     },
     "execution_count": 43,
     "metadata": {},
     "output_type": "execute_result"
    }
   ],
   "source": [
    "# Kolmogorov-Smirnov Test\n",
    "\n",
    "test_stat = kstest(values, 'lognorm', parameters)\n",
    "\n",
    "test_stat"
   ]
  },
  {
   "cell_type": "code",
   "execution_count": null,
   "metadata": {},
   "outputs": [],
   "source": []
  },
  {
   "cell_type": "code",
   "execution_count": null,
   "metadata": {},
   "outputs": [],
   "source": []
  },
  {
   "cell_type": "code",
   "execution_count": 44,
   "metadata": {},
   "outputs": [],
   "source": [
    "# Average Speed (MPH)"
   ]
  },
  {
   "cell_type": "code",
   "execution_count": 45,
   "metadata": {},
   "outputs": [],
   "source": [
    "df['avg_speed_mph'] = df['Trip_distance'] / df['trip_duration'] * 60"
   ]
  },
  {
   "cell_type": "code",
   "execution_count": 46,
   "metadata": {
    "scrolled": true
   },
   "outputs": [
    {
     "data": {
      "text/html": [
       "<div>\n",
       "<style scoped>\n",
       "    .dataframe tbody tr th:only-of-type {\n",
       "        vertical-align: middle;\n",
       "    }\n",
       "\n",
       "    .dataframe tbody tr th {\n",
       "        vertical-align: top;\n",
       "    }\n",
       "\n",
       "    .dataframe thead th {\n",
       "        text-align: right;\n",
       "    }\n",
       "</style>\n",
       "<table border=\"1\" class=\"dataframe\">\n",
       "  <thead>\n",
       "    <tr style=\"text-align: right;\">\n",
       "      <th></th>\n",
       "      <th>count</th>\n",
       "      <th>mean</th>\n",
       "      <th>std</th>\n",
       "      <th>min</th>\n",
       "      <th>25%</th>\n",
       "      <th>50%</th>\n",
       "      <th>75%</th>\n",
       "      <th>max</th>\n",
       "    </tr>\n",
       "  </thead>\n",
       "  <tbody>\n",
       "    <tr>\n",
       "      <th>Trip_distance</th>\n",
       "      <td>1446537.0</td>\n",
       "      <td>3.016333</td>\n",
       "      <td>2.937857</td>\n",
       "      <td>0.140000</td>\n",
       "      <td>1.130000</td>\n",
       "      <td>2.010000</td>\n",
       "      <td>3.80000</td>\n",
       "      <td>30.930000</td>\n",
       "    </tr>\n",
       "    <tr>\n",
       "      <th>avg_speed_mph</th>\n",
       "      <td>1446537.0</td>\n",
       "      <td>13.121240</td>\n",
       "      <td>6.888102</td>\n",
       "      <td>0.128824</td>\n",
       "      <td>9.491686</td>\n",
       "      <td>11.868132</td>\n",
       "      <td>15.12605</td>\n",
       "      <td>1166.666667</td>\n",
       "    </tr>\n",
       "  </tbody>\n",
       "</table>\n",
       "</div>"
      ],
      "text/plain": [
       "                   count       mean       std       min       25%        50%  \\\n",
       "Trip_distance  1446537.0   3.016333  2.937857  0.140000  1.130000   2.010000   \n",
       "avg_speed_mph  1446537.0  13.121240  6.888102  0.128824  9.491686  11.868132   \n",
       "\n",
       "                    75%          max  \n",
       "Trip_distance   3.80000    30.930000  \n",
       "avg_speed_mph  15.12605  1166.666667  "
      ]
     },
     "execution_count": 46,
     "metadata": {},
     "output_type": "execute_result"
    }
   ],
   "source": [
    "df[['Trip_distance', 'avg_speed_mph']].describe().transpose()"
   ]
  },
  {
   "cell_type": "code",
   "execution_count": 47,
   "metadata": {},
   "outputs": [
    {
     "data": {
      "text/plain": [
       "(0, 100)"
      ]
     },
     "execution_count": 47,
     "metadata": {},
     "output_type": "execute_result"
    },
    {
     "data": {
      "image/png": "[encoded data removed]",
      "text/plain": [
       "<matplotlib.figure.Figure at 0x25f08a4c7b8>"
      ]
     },
     "metadata": {
      "needs_background": "light"
     },
     "output_type": "display_data"
    }
   ],
   "source": [
    "df['avg_speed_mph'].hist(bins=1000)\n",
    "plt.xlim(0,100)"
   ]
  },
  {
   "cell_type": "code",
   "execution_count": 48,
   "metadata": {},
   "outputs": [],
   "source": [
    "df['log_avg_speed_mph'] = np.log(df['avg_speed_mph'])"
   ]
  },
  {
   "cell_type": "code",
   "execution_count": 49,
   "metadata": {},
   "outputs": [],
   "source": [
    "df['log_avg_speed_mph_norm'] = (df['log_avg_speed_mph'] - df['log_avg_speed_mph'].mean()) / df['log_avg_speed_mph'].std()"
   ]
  },
  {
   "cell_type": "code",
   "execution_count": 50,
   "metadata": {},
   "outputs": [],
   "source": [
    "df2 = df[(np.abs(df['log_avg_speed_mph_norm']) <= 4)]"
   ]
  },
  {
   "cell_type": "code",
   "execution_count": 51,
   "metadata": {
    "scrolled": true
   },
   "outputs": [
    {
     "data": {
      "text/plain": [
       "<matplotlib.axes._subplots.AxesSubplot at 0x25f0967bf28>"
      ]
     },
     "execution_count": 51,
     "metadata": {},
     "output_type": "execute_result"
    },
    {
     "data": {
      "image/png": "[encoded data removed]",
      "text/plain": [
       "<matplotlib.figure.Figure at 0x25f2248ca58>"
      ]
     },
     "metadata": {
      "needs_background": "light"
     },
     "output_type": "display_data"
    }
   ],
   "source": [
    "df2['avg_speed_mph'].hist(bins=100)\n",
    "# plt.xlim(0,100)"
   ]
  },
  {
   "cell_type": "code",
   "execution_count": 52,
   "metadata": {},
   "outputs": [
    {
     "data": {
      "text/plain": [
       "(248, 28)"
      ]
     },
     "execution_count": 52,
     "metadata": {},
     "output_type": "execute_result"
    }
   ],
   "source": [
    "df[~(df.avg_speed_mph <= 100)].shape"
   ]
  },
  {
   "cell_type": "code",
   "execution_count": 53,
   "metadata": {},
   "outputs": [],
   "source": [
    "df = df[df.avg_speed_mph <= 100]"
   ]
  },
  {
   "cell_type": "code",
   "execution_count": 54,
   "metadata": {},
   "outputs": [
    {
     "data": {
      "text/plain": [
       "<matplotlib.axes._subplots.AxesSubplot at 0x25f00051c88>"
      ]
     },
     "execution_count": 54,
     "metadata": {},
     "output_type": "execute_result"
    },
    {
     "data": {
      "image/png": "[encoded data removed]",
      "text/plain": [
       "<matplotlib.figure.Figure at 0x25f00020400>"
      ]
     },
     "metadata": {
      "needs_background": "light"
     },
     "output_type": "display_data"
    }
   ],
   "source": [
    "df['avg_speed_mph'].hist(bins=100)\n",
    "# plt.xlim(0,100)"
   ]
  },
  {
   "cell_type": "code",
   "execution_count": 55,
   "metadata": {},
   "outputs": [
    {
     "data": {
      "text/plain": [
       "(0.3715694899790002, -0.7645556560627436, 12.894365188966681)"
      ]
     },
     "execution_count": 55,
     "metadata": {},
     "output_type": "execute_result"
    }
   ],
   "source": [
    "parameters = lognorm.fit(df['avg_speed_mph'].values, loc=0)\n",
    "\n",
    "x = np.linspace(0, 60, 61)\n",
    "pdf = lognorm.pdf(x, parameters[0], parameters[1], parameters[2])\n",
    "\n",
    "parameters"
   ]
  },
  {
   "cell_type": "code",
   "execution_count": 56,
   "metadata": {},
   "outputs": [
    {
     "data": {
      "image/png": "[encoded data removed]",
      "text/plain": [
       "<matplotlib.figure.Figure at 0x25f001b8978>"
      ]
     },
     "metadata": {
      "needs_background": "light"
     },
     "output_type": "display_data"
    }
   ],
   "source": [
    "plt.figure(figsize=(16,6))\n",
    "\n",
    "values, bins, _ = plt.hist(df['avg_speed_mph'].values, bins=500, normed=True)\n",
    "\n",
    "plt.plot(x, pdf, 'r')\n",
    "\n",
    "plt.grid()"
   ]
  },
  {
   "cell_type": "code",
   "execution_count": 57,
   "metadata": {
    "scrolled": true
   },
   "outputs": [
    {
     "data": {
      "text/plain": [
       "KstestResult(statistic=0.999999999999778, pvalue=0.0)"
      ]
     },
     "execution_count": 57,
     "metadata": {},
     "output_type": "execute_result"
    }
   ],
   "source": [
    "# Kolmogorov-Smirnov Test\n",
    "\n",
    "test_stat = kstest(values, 'lognorm', parameters)\n",
    "\n",
    "test_stat"
   ]
  },
  {
   "cell_type": "code",
   "execution_count": null,
   "metadata": {},
   "outputs": [],
   "source": []
  },
  {
   "cell_type": "code",
   "execution_count": null,
   "metadata": {},
   "outputs": [],
   "source": []
  },
  {
   "cell_type": "code",
   "execution_count": 58,
   "metadata": {},
   "outputs": [],
   "source": [
    "# 3. Mean and Median of Trip Distance by Hour of Day"
   ]
  },
  {
   "cell_type": "code",
   "execution_count": 59,
   "metadata": {},
   "outputs": [],
   "source": [
    "df['time_of_day'] = df['Lpep_pickup_datetime'] + (df['Lpep_dropoff_datetime'] - df['Lpep_pickup_datetime'])/2\n",
    "\n",
    "df['time_of_day_hour'] = df['time_of_day'].dt.hour"
   ]
  },
  {
   "cell_type": "code",
   "execution_count": 60,
   "metadata": {},
   "outputs": [],
   "source": [
    "df['time_of_day_hour_sec'] = df['time_of_day'].dt.hour * 3600 + df['time_of_day'].dt.minute * 60 + df['time_of_day'].dt.second"
   ]
  },
  {
   "cell_type": "code",
   "execution_count": 61,
   "metadata": {},
   "outputs": [],
   "source": [
    "df['cos_time_of_day'] = np.cos( df['time_of_day_hour_sec'] / 3600 / 24 * 2 * 3.14 )\n",
    "df['sin_time_of_day'] = np.sin( df['time_of_day_hour_sec'] / 3600 / 24 * 2 * 3.14 )"
   ]
  },
  {
   "cell_type": "code",
   "execution_count": 62,
   "metadata": {},
   "outputs": [
    {
     "data": {
      "text/html": [
       "<div>\n",
       "<style scoped>\n",
       "    .dataframe tbody tr th:only-of-type {\n",
       "        vertical-align: middle;\n",
       "    }\n",
       "\n",
       "    .dataframe tbody tr th {\n",
       "        vertical-align: top;\n",
       "    }\n",
       "\n",
       "    .dataframe thead th {\n",
       "        text-align: right;\n",
       "    }\n",
       "</style>\n",
       "<table border=\"1\" class=\"dataframe\">\n",
       "  <thead>\n",
       "    <tr style=\"text-align: right;\">\n",
       "      <th></th>\n",
       "      <th>VendorID</th>\n",
       "      <th>Lpep_pickup_datetime</th>\n",
       "      <th>Lpep_dropoff_datetime</th>\n",
       "      <th>Store_and_fwd_flag</th>\n",
       "      <th>RateCodeID</th>\n",
       "      <th>Pickup_longitude</th>\n",
       "      <th>Pickup_latitude</th>\n",
       "      <th>Dropoff_longitude</th>\n",
       "      <th>Dropoff_latitude</th>\n",
       "      <th>Passenger_count</th>\n",
       "      <th>...</th>\n",
       "      <th>log_trip_duration</th>\n",
       "      <th>log_trip_duration_norm</th>\n",
       "      <th>avg_speed_mph</th>\n",
       "      <th>log_avg_speed_mph</th>\n",
       "      <th>log_avg_speed_mph_norm</th>\n",
       "      <th>time_of_day</th>\n",
       "      <th>time_of_day_hour</th>\n",
       "      <th>time_of_day_hour_sec</th>\n",
       "      <th>cos_time_of_day</th>\n",
       "      <th>sin_time_of_day</th>\n",
       "    </tr>\n",
       "  </thead>\n",
       "  <tbody>\n",
       "    <tr>\n",
       "      <th>2</th>\n",
       "      <td>2</td>\n",
       "      <td>2015-09-01 00:01:50</td>\n",
       "      <td>2015-09-01 00:04:24</td>\n",
       "      <td>N</td>\n",
       "      <td>1</td>\n",
       "      <td>-73.921410</td>\n",
       "      <td>40.766708</td>\n",
       "      <td>-73.914413</td>\n",
       "      <td>40.764687</td>\n",
       "      <td>1</td>\n",
       "      <td>...</td>\n",
       "      <td>0.942608</td>\n",
       "      <td>-1.721359</td>\n",
       "      <td>13.792208</td>\n",
       "      <td>2.624104</td>\n",
       "      <td>0.332521</td>\n",
       "      <td>2015-09-01 00:03:07.000</td>\n",
       "      <td>0</td>\n",
       "      <td>187</td>\n",
       "      <td>0.999908</td>\n",
       "      <td>0.013592</td>\n",
       "    </tr>\n",
       "    <tr>\n",
       "      <th>3</th>\n",
       "      <td>2</td>\n",
       "      <td>2015-09-01 00:02:36</td>\n",
       "      <td>2015-09-01 00:06:42</td>\n",
       "      <td>N</td>\n",
       "      <td>1</td>\n",
       "      <td>-73.921387</td>\n",
       "      <td>40.766678</td>\n",
       "      <td>-73.931427</td>\n",
       "      <td>40.771584</td>\n",
       "      <td>1</td>\n",
       "      <td>...</td>\n",
       "      <td>1.410987</td>\n",
       "      <td>-1.153729</td>\n",
       "      <td>10.829268</td>\n",
       "      <td>2.382252</td>\n",
       "      <td>-0.272962</td>\n",
       "      <td>2015-09-01 00:04:39.000</td>\n",
       "      <td>0</td>\n",
       "      <td>279</td>\n",
       "      <td>0.999794</td>\n",
       "      <td>0.020278</td>\n",
       "    </tr>\n",
       "    <tr>\n",
       "      <th>4</th>\n",
       "      <td>2</td>\n",
       "      <td>2015-09-01 00:00:14</td>\n",
       "      <td>2015-09-01 00:04:20</td>\n",
       "      <td>N</td>\n",
       "      <td>1</td>\n",
       "      <td>-73.955482</td>\n",
       "      <td>40.714046</td>\n",
       "      <td>-73.944412</td>\n",
       "      <td>40.714729</td>\n",
       "      <td>1</td>\n",
       "      <td>...</td>\n",
       "      <td>1.410987</td>\n",
       "      <td>-1.153729</td>\n",
       "      <td>8.926829</td>\n",
       "      <td>2.189061</td>\n",
       "      <td>-0.756624</td>\n",
       "      <td>2015-09-01 00:02:17.000</td>\n",
       "      <td>0</td>\n",
       "      <td>137</td>\n",
       "      <td>0.999950</td>\n",
       "      <td>0.009958</td>\n",
       "    </tr>\n",
       "    <tr>\n",
       "      <th>5</th>\n",
       "      <td>2</td>\n",
       "      <td>2015-09-01 00:00:39</td>\n",
       "      <td>2015-09-01 00:05:20</td>\n",
       "      <td>N</td>\n",
       "      <td>1</td>\n",
       "      <td>-73.945297</td>\n",
       "      <td>40.808186</td>\n",
       "      <td>-73.937668</td>\n",
       "      <td>40.821198</td>\n",
       "      <td>1</td>\n",
       "      <td>...</td>\n",
       "      <td>1.544010</td>\n",
       "      <td>-0.992518</td>\n",
       "      <td>13.708185</td>\n",
       "      <td>2.617993</td>\n",
       "      <td>0.317223</td>\n",
       "      <td>2015-09-01 00:02:59.500</td>\n",
       "      <td>0</td>\n",
       "      <td>179</td>\n",
       "      <td>0.999915</td>\n",
       "      <td>0.013010</td>\n",
       "    </tr>\n",
       "    <tr>\n",
       "      <th>6</th>\n",
       "      <td>2</td>\n",
       "      <td>2015-09-01 00:00:52</td>\n",
       "      <td>2015-09-01 00:05:50</td>\n",
       "      <td>N</td>\n",
       "      <td>1</td>\n",
       "      <td>-73.890877</td>\n",
       "      <td>40.746426</td>\n",
       "      <td>-73.876923</td>\n",
       "      <td>40.756306</td>\n",
       "      <td>1</td>\n",
       "      <td>...</td>\n",
       "      <td>1.602749</td>\n",
       "      <td>-0.921332</td>\n",
       "      <td>17.275168</td>\n",
       "      <td>2.849270</td>\n",
       "      <td>0.896234</td>\n",
       "      <td>2015-09-01 00:03:21.000</td>\n",
       "      <td>0</td>\n",
       "      <td>201</td>\n",
       "      <td>0.999893</td>\n",
       "      <td>0.014609</td>\n",
       "    </tr>\n",
       "  </tbody>\n",
       "</table>\n",
       "<p>5 rows × 33 columns</p>\n",
       "</div>"
      ],
      "text/plain": [
       "   VendorID Lpep_pickup_datetime Lpep_dropoff_datetime Store_and_fwd_flag  \\\n",
       "2         2  2015-09-01 00:01:50   2015-09-01 00:04:24                  N   \n",
       "3         2  2015-09-01 00:02:36   2015-09-01 00:06:42                  N   \n",
       "4         2  2015-09-01 00:00:14   2015-09-01 00:04:20                  N   \n",
       "5         2  2015-09-01 00:00:39   2015-09-01 00:05:20                  N   \n",
       "6         2  2015-09-01 00:00:52   2015-09-01 00:05:50                  N   \n",
       "\n",
       "   RateCodeID  Pickup_longitude  Pickup_latitude  Dropoff_longitude  \\\n",
       "2           1        -73.921410        40.766708         -73.914413   \n",
       "3           1        -73.921387        40.766678         -73.931427   \n",
       "4           1        -73.955482        40.714046         -73.944412   \n",
       "5           1        -73.945297        40.808186         -73.937668   \n",
       "6           1        -73.890877        40.746426         -73.876923   \n",
       "\n",
       "   Dropoff_latitude  Passenger_count       ...         log_trip_duration  \\\n",
       "2         40.764687                1       ...                  0.942608   \n",
       "3         40.771584                1       ...                  1.410987   \n",
       "4         40.714729                1       ...                  1.410987   \n",
       "5         40.821198                1       ...                  1.544010   \n",
       "6         40.756306                1       ...                  1.602749   \n",
       "\n",
       "   log_trip_duration_norm  avg_speed_mph  log_avg_speed_mph  \\\n",
       "2               -1.721359      13.792208           2.624104   \n",
       "3               -1.153729      10.829268           2.382252   \n",
       "4               -1.153729       8.926829           2.189061   \n",
       "5               -0.992518      13.708185           2.617993   \n",
       "6               -0.921332      17.275168           2.849270   \n",
       "\n",
       "   log_avg_speed_mph_norm             time_of_day  time_of_day_hour  \\\n",
       "2                0.332521 2015-09-01 00:03:07.000                 0   \n",
       "3               -0.272962 2015-09-01 00:04:39.000                 0   \n",
       "4               -0.756624 2015-09-01 00:02:17.000                 0   \n",
       "5                0.317223 2015-09-01 00:02:59.500                 0   \n",
       "6                0.896234 2015-09-01 00:03:21.000                 0   \n",
       "\n",
       "   time_of_day_hour_sec  cos_time_of_day  sin_time_of_day  \n",
       "2                   187         0.999908         0.013592  \n",
       "3                   279         0.999794         0.020278  \n",
       "4                   137         0.999950         0.009958  \n",
       "5                   179         0.999915         0.013010  \n",
       "6                   201         0.999893         0.014609  \n",
       "\n",
       "[5 rows x 33 columns]"
      ]
     },
     "execution_count": 62,
     "metadata": {},
     "output_type": "execute_result"
    }
   ],
   "source": [
    "df.head()"
   ]
  },
  {
   "cell_type": "code",
   "execution_count": 63,
   "metadata": {},
   "outputs": [],
   "source": [
    "df_mean = df[['Trip_distance','time_of_day_hour']].groupby('time_of_day_hour').mean()\n",
    "\n",
    "df_med = df[['Trip_distance','time_of_day_hour']].groupby('time_of_day_hour').median()"
   ]
  },
  {
   "cell_type": "code",
   "execution_count": 64,
   "metadata": {},
   "outputs": [],
   "source": [
    "df_stat = pd.concat([df_mean, df_med], axis=1)\n",
    "\n",
    "df_stat.columns = ['mean','median']"
   ]
  },
  {
   "cell_type": "code",
   "execution_count": 65,
   "metadata": {},
   "outputs": [
    {
     "data": {
      "text/html": [
       "<div>\n",
       "<style scoped>\n",
       "    .dataframe tbody tr th:only-of-type {\n",
       "        vertical-align: middle;\n",
       "    }\n",
       "\n",
       "    .dataframe tbody tr th {\n",
       "        vertical-align: top;\n",
       "    }\n",
       "\n",
       "    .dataframe thead th {\n",
       "        text-align: right;\n",
       "    }\n",
       "</style>\n",
       "<table border=\"1\" class=\"dataframe\">\n",
       "  <thead>\n",
       "    <tr style=\"text-align: right;\">\n",
       "      <th></th>\n",
       "      <th>mean</th>\n",
       "      <th>median</th>\n",
       "    </tr>\n",
       "    <tr>\n",
       "      <th>time_of_day_hour</th>\n",
       "      <th></th>\n",
       "      <th></th>\n",
       "    </tr>\n",
       "  </thead>\n",
       "  <tbody>\n",
       "    <tr>\n",
       "      <th>0</th>\n",
       "      <td>3.224609</td>\n",
       "      <td>2.30</td>\n",
       "    </tr>\n",
       "    <tr>\n",
       "      <th>1</th>\n",
       "      <td>3.108717</td>\n",
       "      <td>2.20</td>\n",
       "    </tr>\n",
       "    <tr>\n",
       "      <th>2</th>\n",
       "      <td>3.145363</td>\n",
       "      <td>2.23</td>\n",
       "    </tr>\n",
       "    <tr>\n",
       "      <th>3</th>\n",
       "      <td>3.242177</td>\n",
       "      <td>2.30</td>\n",
       "    </tr>\n",
       "    <tr>\n",
       "      <th>4</th>\n",
       "      <td>3.599218</td>\n",
       "      <td>2.47</td>\n",
       "    </tr>\n",
       "    <tr>\n",
       "      <th>5</th>\n",
       "      <td>4.255968</td>\n",
       "      <td>3.00</td>\n",
       "    </tr>\n",
       "    <tr>\n",
       "      <th>6</th>\n",
       "      <td>4.082394</td>\n",
       "      <td>2.90</td>\n",
       "    </tr>\n",
       "    <tr>\n",
       "      <th>7</th>\n",
       "      <td>3.316178</td>\n",
       "      <td>2.18</td>\n",
       "    </tr>\n",
       "    <tr>\n",
       "      <th>8</th>\n",
       "      <td>3.050189</td>\n",
       "      <td>1.99</td>\n",
       "    </tr>\n",
       "    <tr>\n",
       "      <th>9</th>\n",
       "      <td>3.076462</td>\n",
       "      <td>2.03</td>\n",
       "    </tr>\n",
       "    <tr>\n",
       "      <th>10</th>\n",
       "      <td>3.022223</td>\n",
       "      <td>2.00</td>\n",
       "    </tr>\n",
       "    <tr>\n",
       "      <th>11</th>\n",
       "      <td>2.939832</td>\n",
       "      <td>1.91</td>\n",
       "    </tr>\n",
       "    <tr>\n",
       "      <th>12</th>\n",
       "      <td>2.967951</td>\n",
       "      <td>1.93</td>\n",
       "    </tr>\n",
       "    <tr>\n",
       "      <th>13</th>\n",
       "      <td>2.929150</td>\n",
       "      <td>1.90</td>\n",
       "    </tr>\n",
       "    <tr>\n",
       "      <th>14</th>\n",
       "      <td>2.868116</td>\n",
       "      <td>1.86</td>\n",
       "    </tr>\n",
       "    <tr>\n",
       "      <th>15</th>\n",
       "      <td>2.868893</td>\n",
       "      <td>1.86</td>\n",
       "    </tr>\n",
       "    <tr>\n",
       "      <th>16</th>\n",
       "      <td>2.833258</td>\n",
       "      <td>1.84</td>\n",
       "    </tr>\n",
       "    <tr>\n",
       "      <th>17</th>\n",
       "      <td>2.728616</td>\n",
       "      <td>1.80</td>\n",
       "    </tr>\n",
       "    <tr>\n",
       "      <th>18</th>\n",
       "      <td>2.709709</td>\n",
       "      <td>1.83</td>\n",
       "    </tr>\n",
       "    <tr>\n",
       "      <th>19</th>\n",
       "      <td>2.756314</td>\n",
       "      <td>1.89</td>\n",
       "    </tr>\n",
       "    <tr>\n",
       "      <th>20</th>\n",
       "      <td>2.822338</td>\n",
       "      <td>1.95</td>\n",
       "    </tr>\n",
       "    <tr>\n",
       "      <th>21</th>\n",
       "      <td>3.002880</td>\n",
       "      <td>2.07</td>\n",
       "    </tr>\n",
       "    <tr>\n",
       "      <th>22</th>\n",
       "      <td>3.217981</td>\n",
       "      <td>2.22</td>\n",
       "    </tr>\n",
       "    <tr>\n",
       "      <th>23</th>\n",
       "      <td>3.254537</td>\n",
       "      <td>2.30</td>\n",
       "    </tr>\n",
       "  </tbody>\n",
       "</table>\n",
       "</div>"
      ],
      "text/plain": [
       "                      mean  median\n",
       "time_of_day_hour                  \n",
       "0                 3.224609    2.30\n",
       "1                 3.108717    2.20\n",
       "2                 3.145363    2.23\n",
       "3                 3.242177    2.30\n",
       "4                 3.599218    2.47\n",
       "5                 4.255968    3.00\n",
       "6                 4.082394    2.90\n",
       "7                 3.316178    2.18\n",
       "8                 3.050189    1.99\n",
       "9                 3.076462    2.03\n",
       "10                3.022223    2.00\n",
       "11                2.939832    1.91\n",
       "12                2.967951    1.93\n",
       "13                2.929150    1.90\n",
       "14                2.868116    1.86\n",
       "15                2.868893    1.86\n",
       "16                2.833258    1.84\n",
       "17                2.728616    1.80\n",
       "18                2.709709    1.83\n",
       "19                2.756314    1.89\n",
       "20                2.822338    1.95\n",
       "21                3.002880    2.07\n",
       "22                3.217981    2.22\n",
       "23                3.254537    2.30"
      ]
     },
     "execution_count": 65,
     "metadata": {},
     "output_type": "execute_result"
    }
   ],
   "source": [
    "df_stat"
   ]
  },
  {
   "cell_type": "code",
   "execution_count": 66,
   "metadata": {},
   "outputs": [
    {
     "data": {
      "image/png": "[encoded data removed]",
      "text/plain": [
       "<matplotlib.figure.Figure at 0x25f002562b0>"
      ]
     },
     "metadata": {
      "needs_background": "light"
     },
     "output_type": "display_data"
    }
   ],
   "source": [
    "df_stat.plot()\n",
    "plt.grid()"
   ]
  },
  {
   "cell_type": "code",
   "execution_count": 67,
   "metadata": {},
   "outputs": [],
   "source": [
    "# 3.2 Airports"
   ]
  },
  {
   "cell_type": "code",
   "execution_count": 68,
   "metadata": {},
   "outputs": [],
   "source": [
    "%matplotlib inline\n",
    "import numpy as np\n",
    "import matplotlib.pyplot as plt\n",
    "from mpl_toolkits.basemap import Basemap"
   ]
  },
  {
   "cell_type": "code",
   "execution_count": 69,
   "metadata": {},
   "outputs": [],
   "source": [
    "df_map = df\n",
    "\n",
    "df_map = df_map[df_map['Pickup_longitude'] != 0]\n",
    "df_map = df_map[df_map['Pickup_latitude'] != 0]\n",
    "df_map = df_map[df_map['Dropoff_longitude'] != 0]\n",
    "df_map = df_map[df_map['Dropoff_latitude'] != 0]\n",
    "\n",
    "p1 = df_map['Pickup_longitude']\n",
    "p2 = df_map['Pickup_latitude']\n",
    "\n",
    "d1 = df_map['Dropoff_longitude']\n",
    "d2 = df_map['Dropoff_latitude']"
   ]
  },
  {
   "cell_type": "code",
   "execution_count": 70,
   "metadata": {},
   "outputs": [
    {
     "data": {
      "image/png": "[encoded data removed]",
      "text/plain": [
       "<matplotlib.figure.Figure at 0x25f007f5e48>"
      ]
     },
     "metadata": {},
     "output_type": "display_data"
    }
   ],
   "source": [
    "# 1. Draw the map background\n",
    "fig = plt.figure(figsize=(8, 8))\n",
    "m = Basemap(projection='lcc', resolution='h', \n",
    "            lat_0=40.71, lon_0=-74,\n",
    "            width=0.8E6, height=0.6E6)\n",
    "m.shadedrelief()\n",
    "m.drawcoastlines(color='gray')\n",
    "m.drawcountries(color='gray')\n",
    "m.drawstates(color='gray')\n",
    "\n",
    "# 2. scatter city data, with color reflecting population\n",
    "# and size reflecting area\n",
    "m.scatter(p1.values, p2.values, latlon=True, color='red',\n",
    "#           c=1, s=0.5,\n",
    "          cmap='Reds', alpha=0.5)\n",
    "\n",
    "# 3. create colorbar and legend\n",
    "# plt.colorbar(label=r'$\\log_{10}({\\rm population})$')\n",
    "plt.clim(3, 7)\n",
    "\n",
    "# make legend with dummy points\n",
    "for a in [100, 300, 500]:\n",
    "    plt.scatter([], [], color='red', alpha=0.5, s=a,\n",
    "                label=str(a) + ' km$^2$')\n",
    "plt.legend(scatterpoints=1, frameon=False,\n",
    "           labelspacing=1, loc='lower left');"
   ]
  },
  {
   "cell_type": "code",
   "execution_count": 71,
   "metadata": {},
   "outputs": [],
   "source": [
    "df_map = df_map[df_map['Pickup_latitude'] < 41.015106]\n",
    "\n",
    "p1 = df_map['Pickup_longitude']\n",
    "p2 = df_map['Pickup_latitude']\n",
    "\n",
    "d1 = df_map['Dropoff_longitude']\n",
    "d2 = df_map['Dropoff_latitude']"
   ]
  },
  {
   "cell_type": "code",
   "execution_count": 72,
   "metadata": {},
   "outputs": [
    {
     "data": {
      "image/png": "[encoded data removed]",
      "text/plain": [
       "<matplotlib.figure.Figure at 0x25f008552e8>"
      ]
     },
     "metadata": {},
     "output_type": "display_data"
    }
   ],
   "source": [
    "# 1. Draw the map background\n",
    "fig = plt.figure(figsize=(8, 8))\n",
    "m = Basemap(projection='lcc', resolution='f', \n",
    "            lat_0=40.71, lon_0=-74,\n",
    "            width=0.8E6, height=0.6E6)\n",
    "m.shadedrelief()\n",
    "m.drawcoastlines(color='gray')\n",
    "m.drawcountries(color='gray')\n",
    "m.drawstates(color='gray')\n",
    "\n",
    "# 2. scatter city data, with color reflecting population\n",
    "# and size reflecting area\n",
    "m.scatter(p1.values, p2.values, latlon=True, color='blue',\n",
    "#           c=1, s=0.5,\n",
    "          cmap='Reds', alpha=0.5)\n",
    "\n",
    "# 3. create colorbar and legend\n",
    "# plt.colorbar(label=r'$\\log_{10}({\\rm population})$')\n",
    "plt.clim(3, 7)\n",
    "\n",
    "# make legend with dummy points\n",
    "for a in [100, 300, 500]:\n",
    "    plt.scatter([], [], color='blue', alpha=0.5, s=a,\n",
    "                label=str(a) + ' km$^2$')\n",
    "plt.legend(scatterpoints=1, frameon=False,\n",
    "           labelspacing=1, loc='lower left');"
   ]
  },
  {
   "cell_type": "code",
   "execution_count": 73,
   "metadata": {},
   "outputs": [
    {
     "data": {
      "text/html": [
       "<div>\n",
       "<style scoped>\n",
       "    .dataframe tbody tr th:only-of-type {\n",
       "        vertical-align: middle;\n",
       "    }\n",
       "\n",
       "    .dataframe tbody tr th {\n",
       "        vertical-align: top;\n",
       "    }\n",
       "\n",
       "    .dataframe thead th {\n",
       "        text-align: right;\n",
       "    }\n",
       "</style>\n",
       "<table border=\"1\" class=\"dataframe\">\n",
       "  <thead>\n",
       "    <tr style=\"text-align: right;\">\n",
       "      <th></th>\n",
       "      <th>VendorID</th>\n",
       "      <th>Lpep_pickup_datetime</th>\n",
       "      <th>Lpep_dropoff_datetime</th>\n",
       "      <th>Store_and_fwd_flag</th>\n",
       "      <th>RateCodeID</th>\n",
       "      <th>Pickup_longitude</th>\n",
       "      <th>Pickup_latitude</th>\n",
       "      <th>Dropoff_longitude</th>\n",
       "      <th>Dropoff_latitude</th>\n",
       "      <th>Passenger_count</th>\n",
       "      <th>...</th>\n",
       "      <th>log_trip_duration</th>\n",
       "      <th>log_trip_duration_norm</th>\n",
       "      <th>avg_speed_mph</th>\n",
       "      <th>log_avg_speed_mph</th>\n",
       "      <th>log_avg_speed_mph_norm</th>\n",
       "      <th>time_of_day</th>\n",
       "      <th>time_of_day_hour</th>\n",
       "      <th>time_of_day_hour_sec</th>\n",
       "      <th>cos_time_of_day</th>\n",
       "      <th>sin_time_of_day</th>\n",
       "    </tr>\n",
       "  </thead>\n",
       "  <tbody>\n",
       "    <tr>\n",
       "      <th>844860</th>\n",
       "      <td>2</td>\n",
       "      <td>2015-09-18 02:35:47</td>\n",
       "      <td>2015-09-18 02:37:04</td>\n",
       "      <td>N</td>\n",
       "      <td>1</td>\n",
       "      <td>-73.683144</td>\n",
       "      <td>41.006790</td>\n",
       "      <td>-73.702095</td>\n",
       "      <td>41.012238</td>\n",
       "      <td>1</td>\n",
       "      <td>...</td>\n",
       "      <td>0.249461</td>\n",
       "      <td>-2.561387</td>\n",
       "      <td>33.662338</td>\n",
       "      <td>3.516380</td>\n",
       "      <td>2.566367</td>\n",
       "      <td>2015-09-18 02:36:25.500</td>\n",
       "      <td>2</td>\n",
       "      <td>9385</td>\n",
       "      <td>0.776219</td>\n",
       "      <td>0.630464</td>\n",
       "    </tr>\n",
       "    <tr>\n",
       "      <th>5420</th>\n",
       "      <td>2</td>\n",
       "      <td>2015-09-01 07:42:18</td>\n",
       "      <td>2015-09-01 07:54:26</td>\n",
       "      <td>N</td>\n",
       "      <td>5</td>\n",
       "      <td>-73.836967</td>\n",
       "      <td>40.986603</td>\n",
       "      <td>-73.878235</td>\n",
       "      <td>40.886684</td>\n",
       "      <td>1</td>\n",
       "      <td>...</td>\n",
       "      <td>2.495956</td>\n",
       "      <td>0.161150</td>\n",
       "      <td>40.846154</td>\n",
       "      <td>3.709813</td>\n",
       "      <td>3.050634</td>\n",
       "      <td>2015-09-01 07:48:22.000</td>\n",
       "      <td>7</td>\n",
       "      <td>28102</td>\n",
       "      <td>-0.454493</td>\n",
       "      <td>0.890750</td>\n",
       "    </tr>\n",
       "    <tr>\n",
       "      <th>809609</th>\n",
       "      <td>2</td>\n",
       "      <td>2015-09-17 13:04:53</td>\n",
       "      <td>2015-09-17 13:11:18</td>\n",
       "      <td>N</td>\n",
       "      <td>1</td>\n",
       "      <td>-73.798645</td>\n",
       "      <td>40.983921</td>\n",
       "      <td>-73.792595</td>\n",
       "      <td>40.994469</td>\n",
       "      <td>1</td>\n",
       "      <td>...</td>\n",
       "      <td>1.858899</td>\n",
       "      <td>-0.610903</td>\n",
       "      <td>7.948052</td>\n",
       "      <td>2.072927</td>\n",
       "      <td>-1.047371</td>\n",
       "      <td>2015-09-17 13:08:05.500</td>\n",
       "      <td>13</td>\n",
       "      <td>47285</td>\n",
       "      <td>-0.956707</td>\n",
       "      <td>-0.291052</td>\n",
       "    </tr>\n",
       "    <tr>\n",
       "      <th>41871</th>\n",
       "      <td>2</td>\n",
       "      <td>2015-09-02 00:13:31</td>\n",
       "      <td>2015-09-02 00:25:03</td>\n",
       "      <td>N</td>\n",
       "      <td>1</td>\n",
       "      <td>-73.887604</td>\n",
       "      <td>40.974976</td>\n",
       "      <td>-73.886391</td>\n",
       "      <td>40.971882</td>\n",
       "      <td>1</td>\n",
       "      <td>...</td>\n",
       "      <td>2.445241</td>\n",
       "      <td>0.099688</td>\n",
       "      <td>1.560694</td>\n",
       "      <td>0.445130</td>\n",
       "      <td>-5.122620</td>\n",
       "      <td>2015-09-02 00:19:17.000</td>\n",
       "      <td>0</td>\n",
       "      <td>1157</td>\n",
       "      <td>0.996466</td>\n",
       "      <td>0.083998</td>\n",
       "    </tr>\n",
       "    <tr>\n",
       "      <th>198951</th>\n",
       "      <td>2</td>\n",
       "      <td>2015-09-05 03:46:16</td>\n",
       "      <td>2015-09-05 03:57:05</td>\n",
       "      <td>N</td>\n",
       "      <td>5</td>\n",
       "      <td>-73.862488</td>\n",
       "      <td>40.974659</td>\n",
       "      <td>-73.878136</td>\n",
       "      <td>40.886669</td>\n",
       "      <td>1</td>\n",
       "      <td>...</td>\n",
       "      <td>2.381088</td>\n",
       "      <td>0.021940</td>\n",
       "      <td>39.716487</td>\n",
       "      <td>3.681766</td>\n",
       "      <td>2.980419</td>\n",
       "      <td>2015-09-05 03:51:40.500</td>\n",
       "      <td>3</td>\n",
       "      <td>13900</td>\n",
       "      <td>0.531586</td>\n",
       "      <td>0.847004</td>\n",
       "    </tr>\n",
       "  </tbody>\n",
       "</table>\n",
       "<p>5 rows × 33 columns</p>\n",
       "</div>"
      ],
      "text/plain": [
       "        VendorID Lpep_pickup_datetime Lpep_dropoff_datetime  \\\n",
       "844860         2  2015-09-18 02:35:47   2015-09-18 02:37:04   \n",
       "5420           2  2015-09-01 07:42:18   2015-09-01 07:54:26   \n",
       "809609         2  2015-09-17 13:04:53   2015-09-17 13:11:18   \n",
       "41871          2  2015-09-02 00:13:31   2015-09-02 00:25:03   \n",
       "198951         2  2015-09-05 03:46:16   2015-09-05 03:57:05   \n",
       "\n",
       "       Store_and_fwd_flag  RateCodeID  Pickup_longitude  Pickup_latitude  \\\n",
       "844860                  N           1        -73.683144        41.006790   \n",
       "5420                    N           5        -73.836967        40.986603   \n",
       "809609                  N           1        -73.798645        40.983921   \n",
       "41871                   N           1        -73.887604        40.974976   \n",
       "198951                  N           5        -73.862488        40.974659   \n",
       "\n",
       "        Dropoff_longitude  Dropoff_latitude  Passenger_count       ...         \\\n",
       "844860         -73.702095         41.012238                1       ...          \n",
       "5420           -73.878235         40.886684                1       ...          \n",
       "809609         -73.792595         40.994469                1       ...          \n",
       "41871          -73.886391         40.971882                1       ...          \n",
       "198951         -73.878136         40.886669                1       ...          \n",
       "\n",
       "        log_trip_duration  log_trip_duration_norm  avg_speed_mph  \\\n",
       "844860           0.249461               -2.561387      33.662338   \n",
       "5420             2.495956                0.161150      40.846154   \n",
       "809609           1.858899               -0.610903       7.948052   \n",
       "41871            2.445241                0.099688       1.560694   \n",
       "198951           2.381088                0.021940      39.716487   \n",
       "\n",
       "        log_avg_speed_mph  log_avg_speed_mph_norm             time_of_day  \\\n",
       "844860           3.516380                2.566367 2015-09-18 02:36:25.500   \n",
       "5420             3.709813                3.050634 2015-09-01 07:48:22.000   \n",
       "809609           2.072927               -1.047371 2015-09-17 13:08:05.500   \n",
       "41871            0.445130               -5.122620 2015-09-02 00:19:17.000   \n",
       "198951           3.681766                2.980419 2015-09-05 03:51:40.500   \n",
       "\n",
       "        time_of_day_hour  time_of_day_hour_sec  cos_time_of_day  \\\n",
       "844860                 2                  9385         0.776219   \n",
       "5420                   7                 28102        -0.454493   \n",
       "809609                13                 47285        -0.956707   \n",
       "41871                  0                  1157         0.996466   \n",
       "198951                 3                 13900         0.531586   \n",
       "\n",
       "        sin_time_of_day  \n",
       "844860         0.630464  \n",
       "5420           0.890750  \n",
       "809609        -0.291052  \n",
       "41871          0.083998  \n",
       "198951         0.847004  \n",
       "\n",
       "[5 rows x 33 columns]"
      ]
     },
     "execution_count": 73,
     "metadata": {},
     "output_type": "execute_result"
    }
   ],
   "source": [
    "df_map.sort_values(by='Pickup_latitude', ascending=False).head()"
   ]
  },
  {
   "cell_type": "code",
   "execution_count": 74,
   "metadata": {},
   "outputs": [],
   "source": [
    "from shapely.geometry import Point\n",
    "from shapely.geometry.polygon import Polygon\n",
    "\n",
    "def which_nyairport(row):\n",
    "    \n",
    "    point_pickup = Point(row['Pickup_latitude'], row['Pickup_longitude'])\n",
    "    point_dropoff = Point(row['Dropoff_latitude'], row['Dropoff_longitude'])\n",
    "\n",
    "    polygon_JFK = Polygon([(40.626564, -73.769620), (40.647086, -73.753584), (40.665283, -73.795774), (40.649619, -73.820645)])\n",
    "    polygon_LGA = Polygon([(40.782644, -73.878180), (40.772181, -73.855460), (40.766393, -73.861282), (40.775103, -73.884141)])\n",
    "    polygon_EWR = Polygon([(40.671140, -74.178618), (40.677716, -74.196698), (40.712696, -74.174370), (40.705277, -74.153975)])\n",
    "    \n",
    "    if polygon_JFK.contains(point_pickup) or polygon_JFK.contains(point_dropoff):\n",
    "        return 'JFK' # John F. Kennedy International Airport\n",
    "\n",
    "    if polygon_LGA.contains(point_pickup) or polygon_LGA.contains(point_dropoff):\n",
    "        return 'LGA' # LaGuardia Airport\n",
    "\n",
    "    if polygon_EWR.contains(point_pickup) or polygon_EWR.contains(point_dropoff):\n",
    "        return 'EWR' # Newark Airport\n",
    "\n",
    "    else:\n",
    "        return '' # Not an Airport"
   ]
  },
  {
   "cell_type": "code",
   "execution_count": 75,
   "metadata": {},
   "outputs": [],
   "source": [
    "df['Airport'] = df.apply(which_nyairport, axis=1) "
   ]
  },
  {
   "cell_type": "code",
   "execution_count": 76,
   "metadata": {},
   "outputs": [
    {
     "data": {
      "text/plain": [
       "       1412664\n",
       "LGA      20094\n",
       "JFK      12896\n",
       "EWR        635\n",
       "Name: Airport, dtype: int64"
      ]
     },
     "execution_count": 76,
     "metadata": {},
     "output_type": "execute_result"
    }
   ],
   "source": [
    "df['Airport'].value_counts()"
   ]
  },
  {
   "cell_type": "code",
   "execution_count": 77,
   "metadata": {},
   "outputs": [],
   "source": [
    "airport_mean = df[['Fare_amount', 'Tip_amount', 'Total_amount', 'Trip_distance', 'trip_duration', 'avg_speed_mph']].groupby(df['Airport']).mean()"
   ]
  },
  {
   "cell_type": "code",
   "execution_count": 78,
   "metadata": {},
   "outputs": [
    {
     "data": {
      "text/html": [
       "<div>\n",
       "<style scoped>\n",
       "    .dataframe tbody tr th:only-of-type {\n",
       "        vertical-align: middle;\n",
       "    }\n",
       "\n",
       "    .dataframe tbody tr th {\n",
       "        vertical-align: top;\n",
       "    }\n",
       "\n",
       "    .dataframe thead th {\n",
       "        text-align: right;\n",
       "    }\n",
       "</style>\n",
       "<table border=\"1\" class=\"dataframe\">\n",
       "  <thead>\n",
       "    <tr style=\"text-align: right;\">\n",
       "      <th></th>\n",
       "      <th>Fare_amount</th>\n",
       "      <th>Tip_amount</th>\n",
       "      <th>Total_amount</th>\n",
       "      <th>Trip_distance</th>\n",
       "      <th>trip_duration</th>\n",
       "      <th>avg_speed_mph</th>\n",
       "    </tr>\n",
       "    <tr>\n",
       "      <th>Airport</th>\n",
       "      <th></th>\n",
       "      <th></th>\n",
       "      <th></th>\n",
       "      <th></th>\n",
       "      <th></th>\n",
       "      <th></th>\n",
       "    </tr>\n",
       "  </thead>\n",
       "  <tbody>\n",
       "    <tr>\n",
       "      <th></th>\n",
       "      <td>12.142143</td>\n",
       "      <td>1.167481</td>\n",
       "      <td>14.554765</td>\n",
       "      <td>2.859477</td>\n",
       "      <td>13.135238</td>\n",
       "      <td>12.804949</td>\n",
       "    </tr>\n",
       "    <tr>\n",
       "      <th>EWR</th>\n",
       "      <td>75.504724</td>\n",
       "      <td>11.558425</td>\n",
       "      <td>97.668583</td>\n",
       "      <td>20.980472</td>\n",
       "      <td>46.937428</td>\n",
       "      <td>29.481873</td>\n",
       "    </tr>\n",
       "    <tr>\n",
       "      <th>JFK</th>\n",
       "      <td>41.473355</td>\n",
       "      <td>5.140962</td>\n",
       "      <td>48.589571</td>\n",
       "      <td>13.926311</td>\n",
       "      <td>34.894516</td>\n",
       "      <td>26.331652</td>\n",
       "    </tr>\n",
       "    <tr>\n",
       "      <th>LGA</th>\n",
       "      <td>21.192021</td>\n",
       "      <td>3.193428</td>\n",
       "      <td>26.599434</td>\n",
       "      <td>6.435168</td>\n",
       "      <td>18.039056</td>\n",
       "      <td>23.283982</td>\n",
       "    </tr>\n",
       "  </tbody>\n",
       "</table>\n",
       "</div>"
      ],
      "text/plain": [
       "         Fare_amount  Tip_amount  Total_amount  Trip_distance  trip_duration  \\\n",
       "Airport                                                                        \n",
       "           12.142143    1.167481     14.554765       2.859477      13.135238   \n",
       "EWR        75.504724   11.558425     97.668583      20.980472      46.937428   \n",
       "JFK        41.473355    5.140962     48.589571      13.926311      34.894516   \n",
       "LGA        21.192021    3.193428     26.599434       6.435168      18.039056   \n",
       "\n",
       "         avg_speed_mph  \n",
       "Airport                 \n",
       "             12.804949  \n",
       "EWR          29.481873  \n",
       "JFK          26.331652  \n",
       "LGA          23.283982  "
      ]
     },
     "execution_count": 78,
     "metadata": {},
     "output_type": "execute_result"
    }
   ],
   "source": [
    "airport_mean"
   ]
  },
  {
   "cell_type": "code",
   "execution_count": 79,
   "metadata": {},
   "outputs": [
    {
     "data": {
      "text/plain": [
       "<matplotlib.axes._subplots.AxesSubplot at 0x25f008cf6d8>"
      ]
     },
     "execution_count": 79,
     "metadata": {},
     "output_type": "execute_result"
    },
    {
     "data": {
      "image/png": "[encoded data removed]",
      "text/plain": [
       "<matplotlib.figure.Figure at 0x25f08db5908>"
      ]
     },
     "metadata": {
      "needs_background": "light"
     },
     "output_type": "display_data"
    }
   ],
   "source": [
    "airport_mean.plot(kind='bar')"
   ]
  },
  {
   "cell_type": "code",
   "execution_count": 80,
   "metadata": {},
   "outputs": [],
   "source": [
    "df.Pickup_latitude = df.Pickup_latitude.round(2)\n",
    "df.Pickup_longitude = df.Pickup_longitude.round(2)\n",
    "\n",
    "df['Pickup_loc'] = list(zip(df.Pickup_latitude, df.Pickup_longitude))\n",
    "\n",
    "\n",
    "df.Dropoff_latitude = df.Dropoff_latitude.round(2)\n",
    "df.Dropoff_longitude = df.Dropoff_longitude.round(2)\n",
    "\n",
    "df['Dropoff_loc'] = list(zip(df.Dropoff_latitude, df.Dropoff_longitude))"
   ]
  },
  {
   "cell_type": "code",
   "execution_count": 81,
   "metadata": {},
   "outputs": [],
   "source": [
    "df1 = df.copy()"
   ]
  },
  {
   "cell_type": "code",
   "execution_count": 82,
   "metadata": {},
   "outputs": [],
   "source": [
    "df1.to_csv('green_tripdata_2015-09__cleaned.csv')"
   ]
  },
  {
   "cell_type": "code",
   "execution_count": null,
   "metadata": {},
   "outputs": [],
   "source": []
  },
  {
   "cell_type": "code",
   "execution_count": null,
   "metadata": {},
   "outputs": [],
   "source": []
  },
  {
   "cell_type": "code",
   "execution_count": 83,
   "metadata": {},
   "outputs": [],
   "source": [
    "import pandas as pd\n",
    "df = pd.read_csv('green_tripdata_2015-09__cleaned.csv')"
   ]
  },
  {
   "cell_type": "code",
   "execution_count": null,
   "metadata": {},
   "outputs": [],
   "source": []
  },
  {
   "cell_type": "code",
   "execution_count": 84,
   "metadata": {},
   "outputs": [],
   "source": [
    "# 4. Tip Percentage"
   ]
  },
  {
   "cell_type": "code",
   "execution_count": 85,
   "metadata": {},
   "outputs": [],
   "source": [
    "df['tip_percent'] = df['Tip_amount'] / (df['Total_amount']) * 100"
   ]
  },
  {
   "cell_type": "code",
   "execution_count": 86,
   "metadata": {},
   "outputs": [
    {
     "data": {
      "text/plain": [
       "Payment_type\n",
       "1    685131\n",
       "2    755750\n",
       "3      2446\n",
       "4      2914\n",
       "5        48\n",
       "Name: Payment_type, dtype: int64"
      ]
     },
     "execution_count": 86,
     "metadata": {},
     "output_type": "execute_result"
    }
   ],
   "source": [
    "df.Payment_type.groupby(df['Payment_type']).count()"
   ]
  },
  {
   "cell_type": "code",
   "execution_count": 87,
   "metadata": {},
   "outputs": [],
   "source": [
    "import numpy as np\n",
    "import pandas as pd\n",
    "\n",
    "%matplotlib inline\n",
    "import matplotlib.pyplot as plt\n",
    "import seaborn as sns\n",
    "\n",
    "import datetime\n",
    "\n",
    "import math"
   ]
  },
  {
   "cell_type": "code",
   "execution_count": 88,
   "metadata": {},
   "outputs": [
    {
     "data": {
      "image/png": "[encoded data removed]",
      "text/plain": [
       "<matplotlib.figure.Figure at 0x26026670e10>"
      ]
     },
     "metadata": {
      "needs_background": "light"
     },
     "output_type": "display_data"
    }
   ],
   "source": [
    "sns.countplot(x = 'Payment_type', data = df)\n",
    "plt.grid()\n",
    "plt.xticks([0,1,2,3], ['Credit Card', 'Cash', 'No Charge', 'Dispute'])\n",
    "plt.show()"
   ]
  },
  {
   "cell_type": "code",
   "execution_count": 89,
   "metadata": {},
   "outputs": [
    {
     "data": {
      "text/plain": [
       "0.5262834744646471"
      ]
     },
     "execution_count": 89,
     "metadata": {},
     "output_type": "execute_result"
    }
   ],
   "source": [
    "df[~(df.Payment_type == 1)].shape[0] / df.shape[0]"
   ]
  },
  {
   "cell_type": "code",
   "execution_count": 90,
   "metadata": {},
   "outputs": [],
   "source": [
    "df = df[(df.Payment_type == 1)]"
   ]
  },
  {
   "cell_type": "code",
   "execution_count": null,
   "metadata": {},
   "outputs": [],
   "source": []
  },
  {
   "cell_type": "code",
   "execution_count": 91,
   "metadata": {},
   "outputs": [
    {
     "data": {
      "image/png": "[encoded data removed]",
      "text/plain": [
       "<matplotlib.figure.Figure at 0x2601a261550>"
      ]
     },
     "metadata": {
      "needs_background": "light"
     },
     "output_type": "display_data"
    }
   ],
   "source": [
    "a = plt.hist(df.tip_percent, bins=100)\n",
    "plt.grid()"
   ]
  },
  {
   "cell_type": "code",
   "execution_count": 92,
   "metadata": {},
   "outputs": [],
   "source": [
    "q95 = np.percentile(df.tip_percent, 99.9)\n",
    "q95\n",
    "df = df[df.tip_percent < q95]"
   ]
  },
  {
   "cell_type": "code",
   "execution_count": 93,
   "metadata": {},
   "outputs": [
    {
     "data": {
      "image/png": "[encoded data removed]",
      "text/plain": [
       "<matplotlib.figure.Figure at 0x25f1ec4e908>"
      ]
     },
     "metadata": {
      "needs_background": "light"
     },
     "output_type": "display_data"
    }
   ],
   "source": [
    "a = plt.hist(df.tip_percent, bins=100)\n",
    "plt.grid()"
   ]
  },
  {
   "cell_type": "code",
   "execution_count": null,
   "metadata": {},
   "outputs": [],
   "source": []
  },
  {
   "cell_type": "code",
   "execution_count": 94,
   "metadata": {},
   "outputs": [
    {
     "name": "stderr",
     "output_type": "stream",
     "text": [
      "C:\\Program Files (x86)\\Microsoft Visual Studio\\Shared\\Anaconda3_64\\lib\\site-packages\\ipykernel_launcher.py:2: SettingWithCopyWarning: \n",
      "A value is trying to be set on a copy of a slice from a DataFrame\n",
      "\n",
      "See the caveats in the documentation: http://pandas.pydata.org/pandas-docs/stable/indexing.html#indexing-view-versus-copy\n",
      "  \n"
     ]
    }
   ],
   "source": [
    "df['Tipped'] = 0\n",
    "df['Tipped'][df.tip_percent > 0] = 1"
   ]
  },
  {
   "cell_type": "code",
   "execution_count": 95,
   "metadata": {},
   "outputs": [
    {
     "data": {
      "text/plain": [
       "Tipped\n",
       "0     91136\n",
       "1    593309\n",
       "Name: Tipped, dtype: int64"
      ]
     },
     "execution_count": 95,
     "metadata": {},
     "output_type": "execute_result"
    }
   ],
   "source": [
    "df.Tipped.groupby(df.Tipped).count()"
   ]
  },
  {
   "cell_type": "code",
   "execution_count": 96,
   "metadata": {},
   "outputs": [],
   "source": [
    "df.drop('Lpep_pickup_datetime', axis=1, inplace=True)\n",
    "df.drop('Lpep_dropoff_datetime', axis=1, inplace=True)\n",
    "df.drop('Pickup_longitude', axis=1, inplace=True)\n",
    "df.drop('Pickup_latitude', axis=1, inplace=True)\n",
    "df.drop('Dropoff_longitude', axis=1, inplace=True)\n",
    "df.drop('Dropoff_latitude', axis=1, inplace=True)"
   ]
  },
  {
   "cell_type": "code",
   "execution_count": 97,
   "metadata": {},
   "outputs": [],
   "source": [
    "df['VendorID'] = df['VendorID'].astype('category')\n",
    "df['Store_and_fwd_flag'] = df['Store_and_fwd_flag'].astype('category')\n",
    "df['RateCodeID'] = df['RateCodeID'].astype('category')\n",
    "df['Payment_type'] = df['Payment_type'].astype('category')\n",
    "df['Trip_type'] = df['Trip_type'].astype('int').astype('category')\n",
    "df['Airport'] = df['Airport'].astype('category')\n",
    "\n",
    "df['Pickup_loc'] = df['Pickup_loc'].astype('category')\n",
    "df['Dropoff_loc'] = df['Dropoff_loc'].astype('category')"
   ]
  },
  {
   "cell_type": "code",
   "execution_count": 98,
   "metadata": {},
   "outputs": [],
   "source": [
    "df['VendorID'] = df['VendorID'].cat.codes.astype('category')\n",
    "df['Store_and_fwd_flag'] = df['Store_and_fwd_flag'].cat.codes.astype('category')\n",
    "df['RateCodeID'] = df['RateCodeID'].cat.codes.astype('category')\n",
    "df['Payment_type'] = df['Payment_type'].cat.codes.astype('category')\n",
    "df['Trip_type'] = df['Trip_type'].cat.codes.astype('int').astype('category')\n",
    "df['Airport'] = df['Airport'].cat.codes.astype('category')\n",
    "\n",
    "df[\"Pickup_loc\"] = df[\"Pickup_loc\"].cat.codes.astype('category')\n",
    "df[\"Dropoff_loc\"] = df[\"Dropoff_loc\"].cat.codes.astype('category')"
   ]
  },
  {
   "cell_type": "code",
   "execution_count": null,
   "metadata": {},
   "outputs": [],
   "source": []
  },
  {
   "cell_type": "code",
   "execution_count": 99,
   "metadata": {},
   "outputs": [],
   "source": [
    "df_1 = df[df.Tipped == 1].sample(len(df[df.Tipped == 0]), replace=False)\n",
    "\n",
    "df_bal = pd.concat([df_1, df[df.Tipped == 0]])"
   ]
  },
  {
   "cell_type": "code",
   "execution_count": 100,
   "metadata": {},
   "outputs": [
    {
     "data": {
      "text/plain": [
       "Tipped\n",
       "0    91136\n",
       "1    91136\n",
       "Name: Tipped, dtype: int64"
      ]
     },
     "execution_count": 100,
     "metadata": {},
     "output_type": "execute_result"
    }
   ],
   "source": [
    "df_bal.Tipped.groupby(df_bal.Tipped).count()"
   ]
  },
  {
   "cell_type": "code",
   "execution_count": 101,
   "metadata": {},
   "outputs": [
    {
     "data": {
      "text/plain": [
       "Index(['Unnamed: 0', 'VendorID', 'Store_and_fwd_flag', 'RateCodeID',\n",
       "       'Passenger_count', 'Trip_distance', 'Fare_amount', 'Extra', 'MTA_tax',\n",
       "       'Tip_amount', 'Tolls_amount', 'improvement_surcharge', 'Total_amount',\n",
       "       'Payment_type', 'Trip_type', 'log_Trip_distance',\n",
       "       'log_Trip_distance_norm', 'trip_duration', 'log_trip_duration',\n",
       "       'log_trip_duration_norm', 'avg_speed_mph', 'log_avg_speed_mph',\n",
       "       'log_avg_speed_mph_norm', 'time_of_day', 'time_of_day_hour',\n",
       "       'time_of_day_hour_sec', 'cos_time_of_day', 'sin_time_of_day', 'Airport',\n",
       "       'Pickup_loc', 'Dropoff_loc', 'tip_percent', 'Tipped'],\n",
       "      dtype='object')"
      ]
     },
     "execution_count": 101,
     "metadata": {},
     "output_type": "execute_result"
    }
   ],
   "source": [
    "df.columns"
   ]
  },
  {
   "cell_type": "code",
   "execution_count": 102,
   "metadata": {},
   "outputs": [],
   "source": [
    "from sklearn.linear_model import LogisticRegression\n",
    "from sklearn.ensemble import RandomForestClassifier, GradientBoostingClassifier\n",
    "\n",
    "\n",
    "X_bal = df_bal[['VendorID', 'Store_and_fwd_flag', 'RateCodeID',\n",
    "       'Passenger_count', 'Total_amount',\n",
    "       'Payment_type', 'Trip_type', 'log_Trip_distance',\n",
    "       'log_trip_duration',\n",
    "       'log_avg_speed_mph',\n",
    "       'cos_time_of_day', 'sin_time_of_day', 'Airport',\n",
    "       'Pickup_loc', 'Dropoff_loc']]\n",
    "y_bal = df_bal['Tipped']"
   ]
  },
  {
   "cell_type": "code",
   "execution_count": null,
   "metadata": {},
   "outputs": [],
   "source": []
  },
  {
   "cell_type": "code",
   "execution_count": 103,
   "metadata": {},
   "outputs": [
    {
     "data": {
      "text/plain": [
       "0.6495951106039326"
      ]
     },
     "execution_count": 103,
     "metadata": {},
     "output_type": "execute_result"
    }
   ],
   "source": [
    "m = LogisticRegression()\n",
    "m.fit(X_bal, y_bal)\n",
    "m.score(X_bal, y_bal)"
   ]
  },
  {
   "cell_type": "code",
   "execution_count": 104,
   "metadata": {},
   "outputs": [
    {
     "data": {
      "text/plain": [
       "0.9962693117977528"
      ]
     },
     "execution_count": 104,
     "metadata": {},
     "output_type": "execute_result"
    }
   ],
   "source": [
    "m = RandomForestClassifier()\n",
    "m.fit(X_bal, y_bal)\n",
    "m.score(X_bal, y_bal)"
   ]
  },
  {
   "cell_type": "code",
   "execution_count": null,
   "metadata": {},
   "outputs": [],
   "source": []
  },
  {
   "cell_type": "code",
   "execution_count": 105,
   "metadata": {},
   "outputs": [],
   "source": [
    "# Load libraries\n",
    "import pandas\n",
    "from pandas.plotting import scatter_matrix\n",
    "import matplotlib.pyplot as plt\n",
    "from sklearn import model_selection\n",
    "from sklearn.metrics import classification_report\n",
    "from sklearn.metrics import confusion_matrix\n",
    "from sklearn.metrics import accuracy_score, r2_score\n",
    "from sklearn.linear_model import LogisticRegression\n",
    "from sklearn.tree import DecisionTreeClassifier\n",
    "from sklearn.neighbors import KNeighborsClassifier\n",
    "from sklearn.naive_bayes import GaussianNB\n",
    "from sklearn.neural_network import MLPClassifier\n",
    "from sklearn.ensemble import RandomForestClassifier, GradientBoostingClassifier\n",
    "\n",
    "from sklearn.model_selection import train_test_split"
   ]
  },
  {
   "cell_type": "code",
   "execution_count": 106,
   "metadata": {},
   "outputs": [],
   "source": [
    "X_bal_train, X_bal_test, y_bal_train, y_bal_test = train_test_split(X_bal, y_bal, test_size=0.3)"
   ]
  },
  {
   "cell_type": "code",
   "execution_count": 107,
   "metadata": {},
   "outputs": [
    {
     "name": "stdout",
     "output_type": "stream",
     "text": [
      "LR: 0.472750 (0.088218)\n",
      "RF: 0.887460 (0.035391)\n",
      "GB: 0.875335 (0.006557)\n",
      "CART: 0.926165 (0.002285)\n",
      "KNN: 0.693238 (0.019402)\n",
      "GNB: 0.499534 (0.426221)\n",
      "NN: 0.856977 (0.093099)\n"
     ]
    }
   ],
   "source": [
    "# Test options and evaluation metric\n",
    "seed = 7\n",
    "\n",
    "# Spot Check Algorithms\n",
    "models = []\n",
    "models.append(('LR', LogisticRegression()))\n",
    "models.append(('RF', RandomForestClassifier()))\n",
    "models.append(('GB', GradientBoostingClassifier()))\n",
    "models.append(('CART', DecisionTreeClassifier()))\n",
    "models.append(('KNN', KNeighborsClassifier()))\n",
    "models.append(('GNB', GaussianNB()))\n",
    "models.append(('NN', MLPClassifier()))\n",
    "# evaluate each model in turn\n",
    "results = []\n",
    "names = []\n",
    "for name, model in models:\n",
    "    kfold = model_selection.KFold(n_splits=10, random_state=seed)\n",
    "    cv_results = model_selection.cross_val_score(model, X_bal, y_bal, cv=kfold)\n",
    "    results.append(cv_results)\n",
    "    names.append(name)\n",
    "    msg = \"%s: %f (%f)\" % (name, cv_results.mean(), cv_results.std())\n",
    "    print(msg)"
   ]
  },
  {
   "cell_type": "code",
   "execution_count": 108,
   "metadata": {},
   "outputs": [
    {
     "data": {
      "image/png": "[encoded data removed]",
      "text/plain": [
       "<matplotlib.figure.Figure at 0x25f00a50eb8>"
      ]
     },
     "metadata": {
      "needs_background": "light"
     },
     "output_type": "display_data"
    }
   ],
   "source": [
    "fig = plt.figure()\n",
    "fig.suptitle('Algorithm Comparison')\n",
    "ax = fig.add_subplot(111)\n",
    "plt.boxplot(results)\n",
    "ax.set_xticklabels(names)\n",
    "plt.show()"
   ]
  },
  {
   "cell_type": "code",
   "execution_count": null,
   "metadata": {},
   "outputs": [],
   "source": []
  },
  {
   "cell_type": "code",
   "execution_count": 109,
   "metadata": {},
   "outputs": [],
   "source": [
    "from sklearn.linear_model import LinearRegression\n",
    "from sklearn.model_selection import train_test_split\n",
    "\n",
    "X = df[['VendorID', 'Store_and_fwd_flag', 'RateCodeID',\n",
    "       'Passenger_count', 'Total_amount',\n",
    "       'Payment_type', 'Trip_type', 'log_Trip_distance',\n",
    "       'log_trip_duration',\n",
    "       'log_avg_speed_mph',\n",
    "       'cos_time_of_day', 'sin_time_of_day', 'Airport',\n",
    "       'Pickup_loc', 'Dropoff_loc']]\n",
    "y = df['tip_percent']\n",
    "yc = df.Tipped"
   ]
  },
  {
   "cell_type": "code",
   "execution_count": null,
   "metadata": {},
   "outputs": [],
   "source": []
  },
  {
   "cell_type": "code",
   "execution_count": 110,
   "metadata": {},
   "outputs": [
    {
     "data": {
      "image/png": "[encoded data removed]",
      "text/plain": [
       "<matplotlib.figure.Figure at 0x25f00a50080>"
      ]
     },
     "metadata": {
      "needs_background": "light"
     },
     "output_type": "display_data"
    }
   ],
   "source": [
    "# plt.figure(figsize=(12,16))\n",
    "\n",
    "plt.scatter((df.Fare_amount), df.Tip_amount, s=0.1)\n",
    "plt.grid()"
   ]
  },
  {
   "cell_type": "code",
   "execution_count": 111,
   "metadata": {},
   "outputs": [
    {
     "data": {
      "text/plain": [
       "<matplotlib.collections.PathCollection at 0x25f00b06d68>"
      ]
     },
     "execution_count": 111,
     "metadata": {},
     "output_type": "execute_result"
    },
    {
     "data": {
      "image/png": "[encoded data removed]",
      "text/plain": [
       "<matplotlib.figure.Figure at 0x25f008b6c88>"
      ]
     },
     "metadata": {
      "needs_background": "light"
     },
     "output_type": "display_data"
    }
   ],
   "source": [
    "plt.scatter((df.Total_amount-df.Tip_amount), df['tip_percent'], s=0.05)"
   ]
  },
  {
   "cell_type": "code",
   "execution_count": 112,
   "metadata": {},
   "outputs": [],
   "source": [
    "df_save = df.copy()"
   ]
  },
  {
   "cell_type": "code",
   "execution_count": 113,
   "metadata": {},
   "outputs": [],
   "source": [
    "df = df_save.copy()"
   ]
  },
  {
   "cell_type": "code",
   "execution_count": null,
   "metadata": {},
   "outputs": [],
   "source": []
  },
  {
   "cell_type": "code",
   "execution_count": 114,
   "metadata": {
    "scrolled": true
   },
   "outputs": [
    {
     "data": {
      "text/plain": [
       "Index(['Unnamed: 0', 'VendorID', 'Store_and_fwd_flag', 'RateCodeID',\n",
       "       'Passenger_count', 'Trip_distance', 'Fare_amount', 'Extra', 'MTA_tax',\n",
       "       'Tip_amount', 'Tolls_amount', 'improvement_surcharge', 'Total_amount',\n",
       "       'Payment_type', 'Trip_type', 'log_Trip_distance',\n",
       "       'log_Trip_distance_norm', 'trip_duration', 'log_trip_duration',\n",
       "       'log_trip_duration_norm', 'avg_speed_mph', 'log_avg_speed_mph',\n",
       "       'log_avg_speed_mph_norm', 'time_of_day', 'time_of_day_hour',\n",
       "       'time_of_day_hour_sec', 'cos_time_of_day', 'sin_time_of_day', 'Airport',\n",
       "       'Pickup_loc', 'Dropoff_loc', 'tip_percent', 'Tipped'],\n",
       "      dtype='object')"
      ]
     },
     "execution_count": 114,
     "metadata": {},
     "output_type": "execute_result"
    }
   ],
   "source": [
    "df.columns"
   ]
  },
  {
   "cell_type": "code",
   "execution_count": 116,
   "metadata": {},
   "outputs": [
    {
     "name": "stderr",
     "output_type": "stream",
     "text": [
      "C:\\Program Files (x86)\\Microsoft Visual Studio\\Shared\\Anaconda3_64\\lib\\site-packages\\ipykernel_launcher.py:6: RuntimeWarning: divide by zero encountered in log\n",
      "  \n",
      "C:\\Program Files (x86)\\Microsoft Visual Studio\\Shared\\Anaconda3_64\\lib\\site-packages\\ipykernel_launcher.py:6: SettingWithCopyWarning: \n",
      "A value is trying to be set on a copy of a slice from a DataFrame.\n",
      "Try using .loc[row_indexer,col_indexer] = value instead\n",
      "\n",
      "See the caveats in the documentation: http://pandas.pydata.org/pandas-docs/stable/indexing.html#indexing-view-versus-copy\n",
      "  \n",
      "C:\\Program Files (x86)\\Microsoft Visual Studio\\Shared\\Anaconda3_64\\lib\\site-packages\\ipykernel_launcher.py:8: SettingWithCopyWarning: \n",
      "A value is trying to be set on a copy of a slice from a DataFrame.\n",
      "Try using .loc[row_indexer,col_indexer] = value instead\n",
      "\n",
      "See the caveats in the documentation: http://pandas.pydata.org/pandas-docs/stable/indexing.html#indexing-view-versus-copy\n",
      "  \n",
      "C:\\Program Files (x86)\\Microsoft Visual Studio\\Shared\\Anaconda3_64\\lib\\site-packages\\ipykernel_launcher.py:9: SettingWithCopyWarning: \n",
      "A value is trying to be set on a copy of a slice from a DataFrame\n",
      "\n",
      "See the caveats in the documentation: http://pandas.pydata.org/pandas-docs/stable/indexing.html#indexing-view-versus-copy\n",
      "  if __name__ == '__main__':\n",
      "C:\\Program Files (x86)\\Microsoft Visual Studio\\Shared\\Anaconda3_64\\lib\\site-packages\\pandas\\core\\generic.py:5984: SettingWithCopyWarning: \n",
      "A value is trying to be set on a copy of a slice from a DataFrame\n",
      "\n",
      "See the caveats in the documentation: http://pandas.pydata.org/pandas-docs/stable/indexing.html#indexing-view-versus-copy\n",
      "  self._update_inplace(new_data)\n",
      "C:\\Program Files (x86)\\Microsoft Visual Studio\\Shared\\Anaconda3_64\\lib\\site-packages\\IPython\\core\\interactiveshell.py:2910: SettingWithCopyWarning: \n",
      "A value is trying to be set on a copy of a slice from a DataFrame\n",
      "\n",
      "See the caveats in the documentation: http://pandas.pydata.org/pandas-docs/stable/indexing.html#indexing-view-versus-copy\n",
      "  exec(code_obj, self.user_global_ns, self.user_ns)\n"
     ]
    }
   ],
   "source": [
    "from sklearn.linear_model import LinearRegression\n",
    "from sklearn.model_selection import train_test_split\n",
    "\n",
    "df2 = df[(df.Tip_amount > 0) & (df.Tip_amount <= 25)]\n",
    "\n",
    "df2['log_tip_percent'] = np.log(df.tip_percent)\n",
    "\n",
    "df2['tip_eq5'] = 0\n",
    "df2['tip_eq5'][df.Tip_amount == 1] = 1\n",
    "\n",
    "\n",
    "X = df2[['Passenger_count', 'Trip_distance', \n",
    "#         'Fare_amount', 'Extra', 'MTA_tax',\n",
    "#        'Tip_amount', 'Tolls_amount', 'improvement_surcharge', \n",
    "        'Total_amount',\n",
    "       'log_Trip_distance', \n",
    "#         'log_Trip_distance_norm', 'trip_duration',\n",
    "       'log_trip_duration', \n",
    "#         'log_trip_duration_norm', 'avg_speed_mph',\n",
    "       'log_avg_speed_mph', \n",
    "#         'log_avg_speed_mph_norm', \n",
    "#         'tip_percent',\n",
    "       'VendorID', 'Store_and_fwd_flag', 'RateCodeID', \n",
    "         'Trip_type', 'Airport']]\n",
    "y = df2['tip_eq5']"
   ]
  },
  {
   "cell_type": "code",
   "execution_count": 117,
   "metadata": {},
   "outputs": [
    {
     "data": {
      "text/plain": [
       "tip_eq5\n",
       "0    544597\n",
       "1     48527\n",
       "Name: tip_eq5, dtype: int64"
      ]
     },
     "execution_count": 117,
     "metadata": {},
     "output_type": "execute_result"
    }
   ],
   "source": [
    "df2.tip_eq5.groupby(df2.tip_eq5).count()"
   ]
  },
  {
   "cell_type": "code",
   "execution_count": 118,
   "metadata": {},
   "outputs": [],
   "source": [
    "# plt.hist(df2.log_tip_percent, bins=100)"
   ]
  },
  {
   "cell_type": "code",
   "execution_count": 119,
   "metadata": {},
   "outputs": [
    {
     "data": {
      "text/html": [
       "<div>\n",
       "<style scoped>\n",
       "    .dataframe tbody tr th:only-of-type {\n",
       "        vertical-align: middle;\n",
       "    }\n",
       "\n",
       "    .dataframe tbody tr th {\n",
       "        vertical-align: top;\n",
       "    }\n",
       "\n",
       "    .dataframe thead th {\n",
       "        text-align: right;\n",
       "    }\n",
       "</style>\n",
       "<table border=\"1\" class=\"dataframe\">\n",
       "  <thead>\n",
       "    <tr style=\"text-align: right;\">\n",
       "      <th></th>\n",
       "      <th>count</th>\n",
       "      <th>mean</th>\n",
       "      <th>std</th>\n",
       "      <th>min</th>\n",
       "      <th>25%</th>\n",
       "      <th>50%</th>\n",
       "      <th>75%</th>\n",
       "      <th>max</th>\n",
       "    </tr>\n",
       "  </thead>\n",
       "  <tbody>\n",
       "    <tr>\n",
       "      <th>Passenger_count</th>\n",
       "      <td>593124.0</td>\n",
       "      <td>1.372391</td>\n",
       "      <td>1.044323</td>\n",
       "      <td>0.000000</td>\n",
       "      <td>1.000000</td>\n",
       "      <td>1.000000</td>\n",
       "      <td>1.000000</td>\n",
       "      <td>9.000000</td>\n",
       "    </tr>\n",
       "    <tr>\n",
       "      <th>Trip_distance</th>\n",
       "      <td>593124.0</td>\n",
       "      <td>3.523907</td>\n",
       "      <td>3.175312</td>\n",
       "      <td>0.140000</td>\n",
       "      <td>1.350000</td>\n",
       "      <td>2.510000</td>\n",
       "      <td>4.570000</td>\n",
       "      <td>30.890000</td>\n",
       "    </tr>\n",
       "    <tr>\n",
       "      <th>Total_amount</th>\n",
       "      <td>593124.0</td>\n",
       "      <td>18.475104</td>\n",
       "      <td>11.781652</td>\n",
       "      <td>3.600000</td>\n",
       "      <td>10.300000</td>\n",
       "      <td>14.800000</td>\n",
       "      <td>23.150000</td>\n",
       "      <td>205.790000</td>\n",
       "    </tr>\n",
       "    <tr>\n",
       "      <th>log_Trip_distance</th>\n",
       "      <td>593124.0</td>\n",
       "      <td>0.919730</td>\n",
       "      <td>0.833465</td>\n",
       "      <td>-1.966113</td>\n",
       "      <td>0.300105</td>\n",
       "      <td>0.920283</td>\n",
       "      <td>1.519513</td>\n",
       "      <td>3.430433</td>\n",
       "    </tr>\n",
       "    <tr>\n",
       "      <th>log_trip_duration</th>\n",
       "      <td>593124.0</td>\n",
       "      <td>2.480836</td>\n",
       "      <td>0.704054</td>\n",
       "      <td>-0.105361</td>\n",
       "      <td>2.001480</td>\n",
       "      <td>2.510953</td>\n",
       "      <td>2.982309</td>\n",
       "      <td>4.834826</td>\n",
       "    </tr>\n",
       "    <tr>\n",
       "      <th>log_avg_speed_mph</th>\n",
       "      <td>593124.0</td>\n",
       "      <td>2.533239</td>\n",
       "      <td>0.393918</td>\n",
       "      <td>-2.049304</td>\n",
       "      <td>2.289351</td>\n",
       "      <td>2.510688</td>\n",
       "      <td>2.761359</td>\n",
       "      <td>4.573129</td>\n",
       "    </tr>\n",
       "  </tbody>\n",
       "</table>\n",
       "</div>"
      ],
      "text/plain": [
       "                      count       mean        std       min        25%  \\\n",
       "Passenger_count    593124.0   1.372391   1.044323  0.000000   1.000000   \n",
       "Trip_distance      593124.0   3.523907   3.175312  0.140000   1.350000   \n",
       "Total_amount       593124.0  18.475104  11.781652  3.600000  10.300000   \n",
       "log_Trip_distance  593124.0   0.919730   0.833465 -1.966113   0.300105   \n",
       "log_trip_duration  593124.0   2.480836   0.704054 -0.105361   2.001480   \n",
       "log_avg_speed_mph  593124.0   2.533239   0.393918 -2.049304   2.289351   \n",
       "\n",
       "                         50%        75%         max  \n",
       "Passenger_count     1.000000   1.000000    9.000000  \n",
       "Trip_distance       2.510000   4.570000   30.890000  \n",
       "Total_amount       14.800000  23.150000  205.790000  \n",
       "log_Trip_distance   0.920283   1.519513    3.430433  \n",
       "log_trip_duration   2.510953   2.982309    4.834826  \n",
       "log_avg_speed_mph   2.510688   2.761359    4.573129  "
      ]
     },
     "execution_count": 119,
     "metadata": {},
     "output_type": "execute_result"
    }
   ],
   "source": [
    "X.describe().transpose()"
   ]
  },
  {
   "cell_type": "code",
   "execution_count": 120,
   "metadata": {},
   "outputs": [],
   "source": [
    "X_train, X_test, y_train, y_test = train_test_split(X, y, test_size=0.3)"
   ]
  },
  {
   "cell_type": "code",
   "execution_count": null,
   "metadata": {},
   "outputs": [],
   "source": []
  },
  {
   "cell_type": "code",
   "execution_count": 121,
   "metadata": {},
   "outputs": [],
   "source": [
    "# Load libraries\n",
    "import pandas\n",
    "from pandas.plotting import scatter_matrix\n",
    "import matplotlib.pyplot as plt\n",
    "from sklearn import model_selection\n",
    "from sklearn.metrics import classification_report\n",
    "from sklearn.metrics import confusion_matrix\n",
    "from sklearn.metrics import accuracy_score, r2_score\n",
    "from sklearn.linear_model import LinearRegression, LogisticRegression\n",
    "from sklearn.tree import DecisionTreeRegressor\n",
    "from sklearn.neighbors import KNeighborsRegressor\n",
    "# from sklearn.discriminant_analysis import LinearRegression\n",
    "# from sklearn.naive_bayes import GaussianNB\n",
    "from sklearn.svm import SVR, SVC\n",
    "from sklearn.neural_network import MLPRegressor\n",
    "from sklearn.ensemble import RandomForestRegressor, GradientBoostingRegressor, RandomForestClassifier"
   ]
  },
  {
   "cell_type": "code",
   "execution_count": 125,
   "metadata": {},
   "outputs": [
    {
     "name": "stdout",
     "output_type": "stream",
     "text": [
      "LR: 0.043951 (0.001197)\n"
     ]
    }
   ],
   "source": [
    "# Test options and evaluation metric\n",
    "seed = 7\n",
    "scoring = 'mean_square_error'\n",
    "\n",
    "# Spot Check Algorithms\n",
    "models = []\n",
    "models.append(('LR', LinearRegression()))\n",
    "# models.append(('RF', RandomForestRegressor()))\n",
    "# models.append(('GB', GradientBoostingRegressor()))\n",
    "# models.append(('CART', DecisionTreeRegressor()))\n",
    "# models.append(('SVM', SVR()))\n",
    "# models.append(('NN', MLPRegressor()))\n",
    "# evaluate each model in turn\n",
    "results = []\n",
    "names = []\n",
    "for name, model in models:\n",
    "    kfold = model_selection.KFold(n_splits=10, random_state=seed)\n",
    "    cv_results = model_selection.cross_val_score(model, X_train, y_train, cv=kfold)\n",
    "    results.append(cv_results)\n",
    "    names.append(name)\n",
    "    msg = \"%s: %f (%f)\" % (name, cv_results.mean(), cv_results.std())\n",
    "    print(msg)"
   ]
  },
  {
   "cell_type": "code",
   "execution_count": 130,
   "metadata": {},
   "outputs": [
    {
     "name": "stdout",
     "output_type": "stream",
     "text": [
      "             precision    recall  f1-score   support\n",
      "\n",
      "          0       0.97      0.98      0.98    163095\n",
      "          1       0.79      0.63      0.70     14843\n",
      "\n",
      "avg / total       0.95      0.96      0.95    177938\n",
      "\n"
     ]
    }
   ],
   "source": [
    "# y_pred = y_test.copy()\n",
    "# y_pred[y_pred == y_pred] = 0\n",
    "m = RandomForestClassifier()\n",
    "\n",
    "m.fit(X_train, y_train)\n",
    "\n",
    "y_pred = m.pred(X_test)\n",
    "\n",
    "print(classification_report(y_test, y_pred))"
   ]
  },
  {
   "cell_type": "code",
   "execution_count": 131,
   "metadata": {},
   "outputs": [
    {
     "data": {
      "image/png": "[encoded data removed]",
      "text/plain": [
       "<matplotlib.figure.Figure at 0x260269516a0>"
      ]
     },
     "metadata": {
      "needs_background": "light"
     },
     "output_type": "display_data"
    }
   ],
   "source": [
    "from sklearn import metrics\n",
    "\n",
    "# calculate the fpr and tpr for all thresholds of the classification\n",
    "preds = y_pred\n",
    "fpr, tpr, threshold = metrics.roc_curve(y_test, preds)\n",
    "roc_auc = metrics.auc(fpr, tpr)\n",
    "\n",
    "# method I: plt\n",
    "import matplotlib.pyplot as plt\n",
    "plt.title('Receiver Operating Characteristic')\n",
    "plt.plot(fpr, tpr, 'b', label = 'AUC = %0.2f' % roc_auc)\n",
    "plt.legend(loc = 'lower right')\n",
    "plt.plot([0, 1], [0, 1],'r--')\n",
    "plt.xlim([0, 1])\n",
    "plt.ylim([0, 1])\n",
    "plt.ylabel('True Positive Rate')\n",
    "plt.xlabel('False Positive Rate')\n",
    "plt.show()\n"
   ]
  },
  {
   "cell_type": "code",
   "execution_count": 132,
   "metadata": {},
   "outputs": [
    {
     "name": "stdout",
     "output_type": "stream",
     "text": [
      "             precision    recall  f1-score   support\n",
      "\n",
      "          0       0.92      1.00      0.96    163095\n",
      "          1       0.21      0.00      0.00     14843\n",
      "\n",
      "avg / total       0.86      0.92      0.88    177938\n",
      "\n"
     ]
    }
   ],
   "source": [
    "m = LogisticRegression()\n",
    "\n",
    "m.fit(X_train, y_train)\n",
    "\n",
    "y_pred = y_test.copy()\n",
    "y_pred[y_pred == y_pred] = 0\n",
    "\n",
    "y_pred[m.predict_proba(X_test)[:, 1] > 0.8] = 1\n",
    "\n",
    "confusion_matrix(y_test, y_pred)\n",
    "\n",
    "print(classification_report(y_test, y_pred))"
   ]
  },
  {
   "cell_type": "code",
   "execution_count": 133,
   "metadata": {},
   "outputs": [
    {
     "data": {
      "text/plain": [
       "LogisticRegression(C=1.0, class_weight=None, dual=False, fit_intercept=True,\n",
       "          intercept_scaling=1, max_iter=100, multi_class='ovr', n_jobs=1,\n",
       "          penalty='l2', random_state=None, solver='liblinear', tol=0.0001,\n",
       "          verbose=0, warm_start=False)"
      ]
     },
     "execution_count": 133,
     "metadata": {},
     "output_type": "execute_result"
    }
   ],
   "source": [
    "m"
   ]
  },
  {
   "cell_type": "code",
   "execution_count": 134,
   "metadata": {},
   "outputs": [
    {
     "data": {
      "image/png": "[encoded data removed]",
      "text/plain": [
       "<matplotlib.figure.Figure at 0x2601a25f8d0>"
      ]
     },
     "metadata": {
      "needs_background": "light"
     },
     "output_type": "display_data"
    }
   ],
   "source": [
    "from sklearn import metrics\n",
    "\n",
    "# calculate the fpr and tpr for all thresholds of the classification\n",
    "probs = m.predict_proba(X_test)\n",
    "preds = probs[:,1]\n",
    "fpr, tpr, threshold = metrics.roc_curve(y_test, preds)\n",
    "roc_auc = metrics.auc(fpr, tpr)\n",
    "\n",
    "# method I: plt\n",
    "import matplotlib.pyplot as plt\n",
    "plt.title('Receiver Operating Characteristic')\n",
    "plt.plot(fpr, tpr, 'b', label = 'AUC = %0.2f' % roc_auc)\n",
    "plt.legend(loc = 'lower right')\n",
    "plt.plot([0, 1], [0, 1],'r--')\n",
    "plt.xlim([0, 1])\n",
    "plt.ylim([0, 1])\n",
    "plt.ylabel('True Positive Rate')\n",
    "plt.xlabel('False Positive Rate')\n",
    "plt.show()\n",
    "\n",
    "# # method II: ggplot\n",
    "# from ggplot import *\n",
    "# df = pd.DataFrame(dict(fpr = fpr, tpr = tpr))\n",
    "# ggplot(df, aes(x = 'fpr', y = 'tpr')) + geom_line() + geom_abline(linetype = 'dashed')"
   ]
  },
  {
   "cell_type": "code",
   "execution_count": null,
   "metadata": {},
   "outputs": [],
   "source": [
    "m = SVC()\n",
    "\n",
    "m.fit(X_train, y_train)\n",
    "\n",
    "y_pred = m.predict(X_test)\n",
    "\n",
    "confusion_matrix(y_test, y_pred)\n",
    "\n",
    "print(classification_report(y_test, y_pred))"
   ]
  },
  {
   "cell_type": "code",
   "execution_count": null,
   "metadata": {},
   "outputs": [],
   "source": [
    "from sklearn import metrics\n",
    "\n",
    "# calculate the fpr and tpr for all thresholds of the classification\n",
    "probs = m.predict_proba(X_test)\n",
    "\n",
    "preds = probs[:,1]\n",
    "\n",
    "fpr, tpr, threshold = metrics.roc_curve(y_test, preds)\n",
    "roc_auc = metrics.auc(fpr, tpr)\n",
    "\n",
    "# method I: plt\n",
    "import matplotlib.pyplot as plt\n",
    "plt.title('Receiver Operating Characteristic')\n",
    "plt.plot(fpr, tpr, 'b', label = 'AUC = %0.2f' % roc_auc)\n",
    "plt.legend(loc = 'lower right')\n",
    "plt.plot([0, 1], [0, 1],'r--')\n",
    "plt.xlim([0, 1])\n",
    "plt.ylim([0, 1])\n",
    "plt.ylabel('True Positive Rate')\n",
    "plt.xlabel('False Positive Rate')\n",
    "plt.show()\n",
    "\n",
    "fpr, tpr, threshold"
   ]
  },
  {
   "cell_type": "code",
   "execution_count": null,
   "metadata": {},
   "outputs": [],
   "source": []
  },
  {
   "cell_type": "code",
   "execution_count": null,
   "metadata": {},
   "outputs": [],
   "source": [
    "probs = m.predict_proba(X)\n",
    "preds = probs[:,1]"
   ]
  },
  {
   "cell_type": "code",
   "execution_count": null,
   "metadata": {},
   "outputs": [],
   "source": []
  },
  {
   "cell_type": "code",
   "execution_count": null,
   "metadata": {},
   "outputs": [],
   "source": [
    "from sklearn.metrics import mean_squared_error, r2_score"
   ]
  },
  {
   "cell_type": "code",
   "execution_count": null,
   "metadata": {},
   "outputs": [],
   "source": [
    "y_pred = [df.tip_percent.mean()] * len(y_test)\n",
    "\n",
    "mean_squared_error(y_test, y_pred)\n",
    "# r2_score(y_test, y_pred)"
   ]
  },
  {
   "cell_type": "code",
   "execution_count": null,
   "metadata": {},
   "outputs": [],
   "source": [
    "model = LinearRegression()\n",
    "model.fit(X_train, y_train)\n",
    "\n",
    "y_pred = model.predict(X_test)\n",
    "\n",
    "print(model.score(X_test, y_test), mean_squared_error(y_test, y_pred))"
   ]
  },
  {
   "cell_type": "code",
   "execution_count": null,
   "metadata": {},
   "outputs": [],
   "source": [
    "model = RandomForestRegressor()\n",
    "model.fit(X_train, y_train)\n",
    "\n",
    "y_pred = model.predict(X_test)\n",
    "\n",
    "print(model.score(X_test, y_test), mean_squared_error(y_test, y_pred))"
   ]
  },
  {
   "cell_type": "code",
   "execution_count": null,
   "metadata": {},
   "outputs": [],
   "source": [
    "y_res = y_test - y_pred\n",
    "\n",
    "plt.scatter(y_pred, y_res)"
   ]
  },
  {
   "cell_type": "code",
   "execution_count": null,
   "metadata": {},
   "outputs": [],
   "source": [
    "import numpy as np \n",
    "import pylab \n",
    "import scipy.stats as stats\n",
    "\n",
    "measurements = np.random.normal(loc = 0, scale = 5, size=100)   \n",
    "stats.probplot(y_res, dist=\"norm\", plot=pylab)\n",
    "pylab.show()"
   ]
  },
  {
   "cell_type": "code",
   "execution_count": null,
   "metadata": {},
   "outputs": [],
   "source": []
  },
  {
   "cell_type": "code",
   "execution_count": null,
   "metadata": {},
   "outputs": [],
   "source": [
    "# Extract single tree\n",
    "estimator = model.estimators_[5]\n",
    "\n",
    "from sklearn.tree import export_graphviz\n",
    "# Export as dot file\n",
    "export_graphviz(estimator, out_file='tree.dot', \n",
    "                feature_names = X.columns,\n",
    "                class_names = df.tip_percent,\n",
    "                rounded = True, proportion = False, \n",
    "                precision = 2, filled = True)\n",
    "\n",
    "# Convert to png using system command (requires Graphviz)\n",
    "from subprocess import call\n",
    "call(['dot', '-Tpng', 'tree.dot', '-o', 'tree.png', '-Gdpi=600'])\n",
    "\n",
    "# Display in jupyter notebook\n",
    "from IPython.display import Image\n",
    "Image(filename = 'tree.png')"
   ]
  },
  {
   "cell_type": "code",
   "execution_count": null,
   "metadata": {},
   "outputs": [],
   "source": []
  },
  {
   "cell_type": "code",
   "execution_count": null,
   "metadata": {},
   "outputs": [],
   "source": []
  },
  {
   "cell_type": "code",
   "execution_count": null,
   "metadata": {},
   "outputs": [],
   "source": [
    "model = GradientBoostingRegressor()\n",
    "model.fit(X_train, y_train)\n",
    "\n",
    "y_pred = model.predict(X_test)\n",
    "\n",
    "print(model.score(X_test, y_test), mean_squared_error(y_test, y_pred))"
   ]
  },
  {
   "cell_type": "code",
   "execution_count": null,
   "metadata": {},
   "outputs": [],
   "source": [
    "model.predict( X.iloc[800].reshape(1, -1) )"
   ]
  },
  {
   "cell_type": "code",
   "execution_count": null,
   "metadata": {},
   "outputs": [],
   "source": [
    "y.iloc[800]"
   ]
  },
  {
   "cell_type": "code",
   "execution_count": null,
   "metadata": {},
   "outputs": [],
   "source": [
    "feature_importances = pd.DataFrame(model.feature_importances_,\n",
    "                                   index = X_train.columns,\n",
    "                                    columns=['importance']).sort_values('importance',                                                                 ascending=False)\n",
    "\n",
    "feature_importances"
   ]
  },
  {
   "cell_type": "code",
   "execution_count": null,
   "metadata": {},
   "outputs": [],
   "source": [
    "df.tip_percent.mean()"
   ]
  },
  {
   "cell_type": "code",
   "execution_count": null,
   "metadata": {},
   "outputs": [],
   "source": []
  },
  {
   "cell_type": "code",
   "execution_count": null,
   "metadata": {},
   "outputs": [],
   "source": [
    "import statsmodels.api as sm\n",
    "\n",
    "X2_train = sm.add_constant(X_train)\n",
    "\n",
    "m = sm.OLS(y_train, X2_train).fit()\n",
    "\n",
    "m.summary()"
   ]
  },
  {
   "cell_type": "code",
   "execution_count": null,
   "metadata": {},
   "outputs": [],
   "source": [
    "plt.scatter(m.predict(X2_train), m.resid, s=0.1)"
   ]
  },
  {
   "cell_type": "code",
   "execution_count": null,
   "metadata": {},
   "outputs": [],
   "source": []
  },
  {
   "cell_type": "code",
   "execution_count": null,
   "metadata": {},
   "outputs": [],
   "source": [
    "y_pred = model.predict(X_test)"
   ]
  },
  {
   "cell_type": "code",
   "execution_count": null,
   "metadata": {},
   "outputs": [],
   "source": [
    "plt.scatter(y_test, y_pred)"
   ]
  },
  {
   "cell_type": "code",
   "execution_count": null,
   "metadata": {},
   "outputs": [],
   "source": [
    "model.score(X_train, y_train)"
   ]
  },
  {
   "cell_type": "code",
   "execution_count": null,
   "metadata": {},
   "outputs": [],
   "source": [
    "model.score(X_test, y_test)"
   ]
  },
  {
   "cell_type": "code",
   "execution_count": null,
   "metadata": {},
   "outputs": [],
   "source": [
    "model.coef_"
   ]
  },
  {
   "cell_type": "code",
   "execution_count": null,
   "metadata": {},
   "outputs": [],
   "source": [
    "# Necessary imports: \n",
    "from sklearn.cross_validation import cross_val_score, cross_val_predict\n",
    "from sklearn import metrics"
   ]
  },
  {
   "cell_type": "code",
   "execution_count": null,
   "metadata": {},
   "outputs": [],
   "source": [
    "scores = cross_val_score(model, X_train, y_train, cv=10)\n",
    "\n",
    "scores.mean()"
   ]
  },
  {
   "cell_type": "code",
   "execution_count": null,
   "metadata": {},
   "outputs": [],
   "source": []
  },
  {
   "cell_type": "code",
   "execution_count": null,
   "metadata": {},
   "outputs": [],
   "source": []
  }
 ],
 "metadata": {
  "kernelspec": {
   "display_name": "Python 3",
   "language": "python",
   "name": "python3"
  },
  "language_info": {
   "codemirror_mode": {
    "name": "ipython",
    "version": 3
   },
   "file_extension": ".py",
   "mimetype": "text/x-python",
   "name": "python",
   "nbconvert_exporter": "python",
   "pygments_lexer": "ipython3",
   "version": "3.6.4"
  }
 },
 "nbformat": 4,
 "nbformat_minor": 2
}
